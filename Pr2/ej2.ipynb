{
 "cells": [
  {
   "cell_type": "markdown",
   "metadata": {},
   "source": [
    "# Ejercicio 1"
   ]
  },
  {
   "cell_type": "code",
   "execution_count": 1,
   "metadata": {},
   "outputs": [
    {
     "name": "stdout",
     "output_type": "stream",
     "text": [
      "[('EDF', 'np00000'), ('y', 'cc'), ('Mitsubishi', 'np00000'), ('participaron', 'vmis3p0'), ('en', 'sps00'), ('1998', 'W'), ('en', 'sps00'), ('la', 'da0fs0'), ('licitación', 'ncfs000'), ('de', 'sps00'), ('licencias', 'ncfp000'), ('para', 'sps00'), ('construir', 'vmn0000'), ('centrales', 'ncfp000'), ('eléctricas', 'aq0fp0'), ('en', 'sps00'), ('México', 'np00000'), ('y', 'cc'), ('*0*', 'sn.e-SUJ'), ('se', 'p0300000'), ('quedaron', 'vmis3p0'), ('con', 'sps00'), ('dos', 'pn0cp000'), ('cada', 'di0cs0'), ('una', 'pi0fs000'), (':', 'Fd'), ('Río_Bravo', 'np00000'), ('y', 'cc'), ('Saltillo', 'np00000'), ('para', 'sps00'), ('la', 'da0fs0'), ('compañía', 'ncfs000'), ('francesa', 'aq0fs0'), ('y', 'cc'), ('Altamira', 'np00000'), ('y', 'cc'), ('Tuxpán', 'np00000'), ('para', 'sps00'), ('la', 'da0fs0'), ('japonesa', 'aq0fs0'), ('.', 'Fp')]\n"
     ]
    }
   ],
   "source": [
    "# Cargar el corpus\n",
    "import nltk\n",
    "from nltk.corpus import cess_esp\n",
    "\n",
    "corpus_sentences=cess_esp.tagged_sents()\n",
    "print(corpus_sentences[4])"
   ]
  },
  {
   "cell_type": "code",
   "execution_count": 2,
   "metadata": {},
   "outputs": [
    {
     "name": "stdout",
     "output_type": "stream",
     "text": [
      "[('El', 'da0ms0'), ('grupo', 'ncms000'), ('estatal', 'aq0cs0'), ('Electricité_de_France', 'np00000'), ('-Fpa-', 'Fpa'), ('EDF', 'np00000'), ('-Fpt-', 'Fpt'), ('anunció', 'vmis3s0'), ('hoy', 'rg'), (',', 'Fc'), ('jueves', 'W'), (',', 'Fc'), ('la', 'da0fs0'), ('compra', 'ncfs000'), ('del', 'spcms'), ('51_por_ciento', 'Zp'), ('de', 'sps00'), ('la', 'da0fs0'), ('empresa', 'ncfs000'), ('mexicana', 'aq0fs0'), ('Electricidad_Águila_de_Altamira', 'np00000'), ('-Fpa-', 'Fpa'), ('EAA', 'np00000'), ('-Fpt-', 'Fpt'), (',', 'Fc'), ('creada', 'aq0fsp'), ('por', 'sps00'), ('el', 'da0ms0'), ('japonés', 'aq0ms0'), ('Mitsubishi_Corporation', 'np00000'), ('para', 'sps00'), ('poner_en_marcha', 'vmn0000'), ('una', 'di0fs0'), ('central', 'ncfs000'), ('de', 'sps00'), ('gas', 'ncms000'), ('de', 'sps00'), ('495', 'Z'), ('megavatios', 'ncmp000'), ('.', 'Fp')]\n",
      "[('El', 'da'), ('grupo', 'nc'), ('estatal', 'aq'), ('Electricité_de_France', 'np'), ('-Fpa-', 'Fpa'), ('EDF', 'np'), ('-Fpt-', 'Fpt'), ('anunció', 'vmi'), ('hoy', 'rg'), (',', 'Fc'), ('jueves', 'W'), (',', 'Fc'), ('la', 'da'), ('compra', 'nc'), ('del', 'sp'), ('51_por_ciento', 'Zp'), ('de', 'sp'), ('la', 'da'), ('empresa', 'nc'), ('mexicana', 'aq'), ('Electricidad_Águila_de_Altamira', 'np'), ('-Fpa-', 'Fpa'), ('EAA', 'np'), ('-Fpt-', 'Fpt'), (',', 'Fc'), ('creada', 'aq'), ('por', 'sp'), ('el', 'da'), ('japonés', 'aq'), ('Mitsubishi_Corporation', 'np'), ('para', 'sp'), ('poner_en_marcha', 'vmn'), ('una', 'di'), ('central', 'nc'), ('de', 'sp'), ('gas', 'nc'), ('de', 'sp'), ('495', 'Z'), ('megavatios', 'nc'), ('.', 'Fp')]\n"
     ]
    }
   ],
   "source": [
    "new_corpus_sentences = []\n",
    "\n",
    "for sentence in corpus_sentences:\n",
    "    new_sentence = []\n",
    "    \n",
    "    for taged_word in sentence:\n",
    "        word, tag = taged_word\n",
    "        main_category = tag[0]\n",
    "\n",
    "        if word == '*0*':\n",
    "            continue\n",
    "\n",
    "        match main_category:\n",
    "            case 'v':   # verbo\n",
    "                new_tag = tag[:3]\n",
    "            case 'F':   # signo de puntuación\n",
    "                new_tag = tag[:3]\n",
    "            case _:     # otro\n",
    "                new_tag = tag[:2]\n",
    "\n",
    "        new_sentence.append((word, new_tag))\n",
    "\n",
    "    new_corpus_sentences.append(new_sentence)\n",
    "\n",
    "print(corpus_sentences[0])\n",
    "print(new_corpus_sentences[0])"
   ]
  },
  {
   "cell_type": "code",
   "execution_count": 3,
   "metadata": {},
   "outputs": [
    {
     "name": "stdout",
     "output_type": "stream",
     "text": [
      "5427\n",
      "603\n"
     ]
    }
   ],
   "source": [
    "corpus_sentences = new_corpus_sentences\n",
    "\n",
    "# Usar el 90% de frases para el entrenamiento, y el otro 10% como test\n",
    "len_train = int(len(corpus_sentences) * 0.9)\n",
    "train_sentences = corpus_sentences[:len_train]\n",
    "test_sentences = corpus_sentences[len_train:]\n",
    "\n",
    "print(len(train_sentences))\n",
    "print(len(test_sentences))"
   ]
  },
  {
   "cell_type": "markdown",
   "metadata": {},
   "source": [
    "# Ejercicio 2"
   ]
  },
  {
   "cell_type": "code",
   "execution_count": 4,
   "metadata": {},
   "outputs": [
    {
     "name": "stdout",
     "output_type": "stream",
     "text": [
      "Acurracy = 0.8784427571832664\n"
     ]
    }
   ],
   "source": [
    "from nltk.tag import hmm\n",
    "tagger_hmm = hmm.HiddenMarkovModelTagger.train(train_sentences)\n",
    "accuracy = tagger_hmm.accuracy(test_sentences)\n",
    "print(f'Acurracy = {accuracy}')"
   ]
  },
  {
   "cell_type": "markdown",
   "metadata": {},
   "source": [
    "# Ejercicio 3"
   ]
  },
  {
   "cell_type": "code",
   "execution_count": 5,
   "metadata": {},
   "outputs": [
    {
     "name": "stdout",
     "output_type": "stream",
     "text": [
      "len_train=5427\t[('Con', 'sp'), ('la', 'da'), ('compra', 'nc'), ('de', 'sp'), ('acciones', 'nc'), ('en', 'sp'), ('CGO', 'np'), (',', 'Fc'), ('Autopistas_Concesionaria_Española', 'np'), ('-Fpa-', 'Fpa'), ('ACESA', 'np'), ('-Fpt-', 'Fpt'), (',', 'Fc'), ('filial', 'nc'), ('del', 'sp'), ('grupo', 'nc'), ('financiero', 'aq'), ('catalán', 'aq'), ('La_Caixa', 'np'), ('y', 'cc'), ('que', 'pr'), ('constituye', 'vmi'), ('la', 'da'), ('mayor', 'aq'), ('operadora', 'nc'), ('de', 'sp'), ('rutas', 'nc'), ('con', 'sp'), ('peajes', 'nc'), ('de', 'sp'), ('España', 'np'), (',', 'Fc'), ('presente', 'aq'), ('también', 'rg'), ('en', 'sp'), ('Portugal', 'np'), ('e', 'cc'), ('Italia', 'np'), (',', 'Fc'), ('pone', 'vmi'), ('un', 'di'), ('pie', 'nc'), ('en', 'sp'), ('Latinoamérica', 'np'), ('.', 'Fp')]\t\n",
      "len_test=603\t[('El', 'da'), ('grupo', 'nc'), ('estatal', 'aq'), ('Electricité_de_France', 'np'), ('-Fpa-', 'Fpa'), ('EDF', 'np'), ('-Fpt-', 'Fpt'), ('anunció', 'vmi'), ('hoy', 'rg'), (',', 'Fc'), ('jueves', 'W'), (',', 'Fc'), ('la', 'da'), ('compra', 'nc'), ('del', 'sp'), ('51_por_ciento', 'Zp'), ('de', 'sp'), ('la', 'da'), ('empresa', 'nc'), ('mexicana', 'aq'), ('Electricidad_Águila_de_Altamira', 'np'), ('-Fpa-', 'Fpa'), ('EAA', 'np'), ('-Fpt-', 'Fpt'), (',', 'Fc'), ('creada', 'aq'), ('por', 'sp'), ('el', 'da'), ('japonés', 'aq'), ('Mitsubishi_Corporation', 'np'), ('para', 'sp'), ('poner_en_marcha', 'vmn'), ('una', 'di'), ('central', 'nc'), ('de', 'sp'), ('gas', 'nc'), ('de', 'sp'), ('495', 'Z'), ('megavatios', 'nc'), ('.', 'Fp')]\t\n",
      "\n",
      "len_train=5427\t[('El', 'da'), ('grupo', 'nc'), ('estatal', 'aq'), ('Electricité_de_France', 'np'), ('-Fpa-', 'Fpa'), ('EDF', 'np'), ('-Fpt-', 'Fpt'), ('anunció', 'vmi'), ('hoy', 'rg'), (',', 'Fc'), ('jueves', 'W'), (',', 'Fc'), ('la', 'da'), ('compra', 'nc'), ('del', 'sp'), ('51_por_ciento', 'Zp'), ('de', 'sp'), ('la', 'da'), ('empresa', 'nc'), ('mexicana', 'aq'), ('Electricidad_Águila_de_Altamira', 'np'), ('-Fpa-', 'Fpa'), ('EAA', 'np'), ('-Fpt-', 'Fpt'), (',', 'Fc'), ('creada', 'aq'), ('por', 'sp'), ('el', 'da'), ('japonés', 'aq'), ('Mitsubishi_Corporation', 'np'), ('para', 'sp'), ('poner_en_marcha', 'vmn'), ('una', 'di'), ('central', 'nc'), ('de', 'sp'), ('gas', 'nc'), ('de', 'sp'), ('495', 'Z'), ('megavatios', 'nc'), ('.', 'Fp')]\t\n",
      "len_test=603\t[('Agregó', 'vmi'), ('que', 'cs'), ('esta', 'dd'), ('semana', 'nc'), ('última', 'ao'), ('\"', 'Fe'), ('he', 'vai'), ('trabajado', 'vmp'), ('muchísimo', 'aq'), ('\"', 'Fe'), ('y', 'cc'), ('\"', 'Fe'), ('desde', 'sp'), ('que', 'cs'), ('el', 'da'), ('Tribunal_Supremo', 'np'), ('decidió', 'vmi'), ('aplazar', 'vmn'), ('los', 'da'), ('comicios', 'nc'), (',', 'Fc'), ('guardé', 'vmi'), ('mi', 'dp'), ('arsenal', 'nc'), ('de', 'sp'), ('campaña', 'nc'), ('\"', 'Fe'), ('.', 'Fp')]\t\n",
      "\n",
      "len_train=5427\t[('El', 'da'), ('grupo', 'nc'), ('estatal', 'aq'), ('Electricité_de_France', 'np'), ('-Fpa-', 'Fpa'), ('EDF', 'np'), ('-Fpt-', 'Fpt'), ('anunció', 'vmi'), ('hoy', 'rg'), (',', 'Fc'), ('jueves', 'W'), (',', 'Fc'), ('la', 'da'), ('compra', 'nc'), ('del', 'sp'), ('51_por_ciento', 'Zp'), ('de', 'sp'), ('la', 'da'), ('empresa', 'nc'), ('mexicana', 'aq'), ('Electricidad_Águila_de_Altamira', 'np'), ('-Fpa-', 'Fpa'), ('EAA', 'np'), ('-Fpt-', 'Fpt'), (',', 'Fc'), ('creada', 'aq'), ('por', 'sp'), ('el', 'da'), ('japonés', 'aq'), ('Mitsubishi_Corporation', 'np'), ('para', 'sp'), ('poner_en_marcha', 'vmn'), ('una', 'di'), ('central', 'nc'), ('de', 'sp'), ('gas', 'nc'), ('de', 'sp'), ('495', 'Z'), ('megavatios', 'nc'), ('.', 'Fp')]\t\n",
      "len_test=603\t[('En', 'sp'), ('menor', 'aq'), ('medida', 'nc'), (',', 'Fc'), ('las', 'da'), ('radiaciones', 'nc'), ('ionizantes', 'aq'), ('se', 'p0'), ('han', 'vai'), ('empleado', 'vmp'), ('también', 'rg'), ('como', 'cs'), ('medio', 'nc'), ('de', 'sp'), ('esterilización', 'nc'), ('para', 'sp'), ('hacer_frente', 'vmn'), ('a', 'sp'), ('determinadas', 'aq'), ('plagas', 'nc'), ('de', 'sp'), ('insectos', 'nc'), (',', 'Fc'), ('y', 'cc'), ('en', 'sp'), ('la', 'da'), ('conservación', 'nc'), ('de', 'sp'), ('alimentos', 'nc'), (',', 'Fc'), ('dada', 'vmp'), ('su', 'dp'), ('gran', 'aq'), ('capacidad', 'nc'), ('para', 'sp'), ('actuar', 'vmn'), ('sobre', 'sp'), ('el', 'da'), ('material', 'nc'), ('genético', 'aq'), ('y', 'cc'), ('con', 'sp'), ('ello', 'pp'), (',', 'Fc'), ('la', 'da'), ('posibilidad', 'nc'), ('de', 'sp'), ('inhibir', 'vmn'), ('la', 'da'), ('proliferación', 'nc'), ('de', 'sp'), ('bacterias', 'nc'), ('y', 'cc'), ('gérmenes', 'nc'), ('.', 'Fp')]\t\n",
      "\n",
      "len_train=5427\t[('El', 'da'), ('grupo', 'nc'), ('estatal', 'aq'), ('Electricité_de_France', 'np'), ('-Fpa-', 'Fpa'), ('EDF', 'np'), ('-Fpt-', 'Fpt'), ('anunció', 'vmi'), ('hoy', 'rg'), (',', 'Fc'), ('jueves', 'W'), (',', 'Fc'), ('la', 'da'), ('compra', 'nc'), ('del', 'sp'), ('51_por_ciento', 'Zp'), ('de', 'sp'), ('la', 'da'), ('empresa', 'nc'), ('mexicana', 'aq'), ('Electricidad_Águila_de_Altamira', 'np'), ('-Fpa-', 'Fpa'), ('EAA', 'np'), ('-Fpt-', 'Fpt'), (',', 'Fc'), ('creada', 'aq'), ('por', 'sp'), ('el', 'da'), ('japonés', 'aq'), ('Mitsubishi_Corporation', 'np'), ('para', 'sp'), ('poner_en_marcha', 'vmn'), ('una', 'di'), ('central', 'nc'), ('de', 'sp'), ('gas', 'nc'), ('de', 'sp'), ('495', 'Z'), ('megavatios', 'nc'), ('.', 'Fp')]\t\n",
      "len_test=603\t[('Los', 'da'), ('juegos_Olímpicos', 'np'), ('de', 'sp'), ('Sydney', 'np'), (',', 'Fc'), ('inaugurados', 'aq'), ('con', 'sp'), ('gran', 'aq'), ('brillantez', 'nc'), ('el', 'da'), ('15_de_septiembre', 'W'), ('por', 'sp'), ('el', 'da'), ('presidente', 'nc'), ('Samaranch', 'np'), (',', 'Fc'), ('se', 'p0'), ('tiñeron', 'vmi'), ('de', 'sp'), ('luto', 'nc'), ('por', 'sp'), ('la', 'da'), ('muerte', 'nc'), ('de', 'sp'), ('la', 'da'), ('esposa', 'nc'), ('del', 'sp'), ('dirigente', 'nc'), (',', 'Fc'), ('que', 'pr'), ('tuvo', 'vmi'), ('que', 'cs'), ('regresar', 'vmn'), ('a', 'sp'), ('Barcelona', 'np'), ('entre', 'sp'), ('las', 'da'), ('lágrimas', 'nc'), ('de', 'sp'), ('tristeza', 'nc'), ('y', 'cc'), ('la', 'da'), ('alegría', 'nc'), ('de', 'sp'), ('unos', 'di'), ('JJ.OO.', 'np'), ('que', 'pr'), ('levantaron', 'vmi'), ('su', 'dp'), ('telón', 'nc'), ('con', 'sp'), ('una', 'di'), ('de', 'sp'), ('las', 'da'), ('ceremonias', 'nc'), ('más', 'rg'), ('espectaculares', 'aq'), ('de', 'sp'), ('la', 'da'), ('historia', 'nc'), ('.', 'Fp')]\t\n",
      "\n",
      "len_train=5427\t[('El', 'da'), ('grupo', 'nc'), ('estatal', 'aq'), ('Electricité_de_France', 'np'), ('-Fpa-', 'Fpa'), ('EDF', 'np'), ('-Fpt-', 'Fpt'), ('anunció', 'vmi'), ('hoy', 'rg'), (',', 'Fc'), ('jueves', 'W'), (',', 'Fc'), ('la', 'da'), ('compra', 'nc'), ('del', 'sp'), ('51_por_ciento', 'Zp'), ('de', 'sp'), ('la', 'da'), ('empresa', 'nc'), ('mexicana', 'aq'), ('Electricidad_Águila_de_Altamira', 'np'), ('-Fpa-', 'Fpa'), ('EAA', 'np'), ('-Fpt-', 'Fpt'), (',', 'Fc'), ('creada', 'aq'), ('por', 'sp'), ('el', 'da'), ('japonés', 'aq'), ('Mitsubishi_Corporation', 'np'), ('para', 'sp'), ('poner_en_marcha', 'vmn'), ('una', 'di'), ('central', 'nc'), ('de', 'sp'), ('gas', 'nc'), ('de', 'sp'), ('495', 'Z'), ('megavatios', 'nc'), ('.', 'Fp')]\t\n",
      "len_test=603\t[('Estos', 'dd'), ('compuestos', 'nc'), ('son', 'vsi'), (',', 'Fc'), ('en_consecuencia', 'rg'), (',', 'Fc'), ('sustancias', 'nc'), ('aislantes', 'aq'), ('con', 'sp'), ('valores', 'nc'), ('de', 'sp'), ('conductividad', 'nc'), ('del', 'sp'), ('orden', 'nc'), ('de', 'sp'), ('10', 'Z'), ('-', 'Fg'), ('11', 'Z'), ('.', 'Fp')]\t\n",
      "\n",
      "len_train=5427\t[('El', 'da'), ('grupo', 'nc'), ('estatal', 'aq'), ('Electricité_de_France', 'np'), ('-Fpa-', 'Fpa'), ('EDF', 'np'), ('-Fpt-', 'Fpt'), ('anunció', 'vmi'), ('hoy', 'rg'), (',', 'Fc'), ('jueves', 'W'), (',', 'Fc'), ('la', 'da'), ('compra', 'nc'), ('del', 'sp'), ('51_por_ciento', 'Zp'), ('de', 'sp'), ('la', 'da'), ('empresa', 'nc'), ('mexicana', 'aq'), ('Electricidad_Águila_de_Altamira', 'np'), ('-Fpa-', 'Fpa'), ('EAA', 'np'), ('-Fpt-', 'Fpt'), (',', 'Fc'), ('creada', 'aq'), ('por', 'sp'), ('el', 'da'), ('japonés', 'aq'), ('Mitsubishi_Corporation', 'np'), ('para', 'sp'), ('poner_en_marcha', 'vmn'), ('una', 'di'), ('central', 'nc'), ('de', 'sp'), ('gas', 'nc'), ('de', 'sp'), ('495', 'Z'), ('megavatios', 'nc'), ('.', 'Fp')]\t\n",
      "len_test=603\t[('El', 'da'), ('primer', 'ao'), ('ministro', 'nc'), ('francés', 'aq'), (',', 'Fc'), ('el', 'da'), ('socialista', 'aq'), ('Lionel_Jospin', 'np'), (',', 'Fc'), ('intenta', 'vmi'), ('recuperar', 'vmn'), ('la', 'da'), ('iniciativa', 'nc'), ('política', 'aq'), ('y', 'cc'), ('el', 'da'), ('apoyo', 'nc'), ('del', 'sp'), ('electorado', 'nc'), ('tradicional', 'aq'), ('de', 'sp'), ('izquierdas', 'nc'), ('destinando', 'vmg'), ('los', 'da'), ('frutos', 'nc'), ('de', 'sp'), ('la', 'da'), ('bonanza', 'nc'), ('económica', 'aq'), ('a', 'sp'), ('gastos', 'nc'), ('públicos', 'aq'), ('y', 'cc'), ('recortes', 'nc'), ('de', 'sp'), ('impuestos', 'nc'), ('.', 'Fp')]\t\n",
      "\n",
      "len_train=5427\t[('El', 'da'), ('grupo', 'nc'), ('estatal', 'aq'), ('Electricité_de_France', 'np'), ('-Fpa-', 'Fpa'), ('EDF', 'np'), ('-Fpt-', 'Fpt'), ('anunció', 'vmi'), ('hoy', 'rg'), (',', 'Fc'), ('jueves', 'W'), (',', 'Fc'), ('la', 'da'), ('compra', 'nc'), ('del', 'sp'), ('51_por_ciento', 'Zp'), ('de', 'sp'), ('la', 'da'), ('empresa', 'nc'), ('mexicana', 'aq'), ('Electricidad_Águila_de_Altamira', 'np'), ('-Fpa-', 'Fpa'), ('EAA', 'np'), ('-Fpt-', 'Fpt'), (',', 'Fc'), ('creada', 'aq'), ('por', 'sp'), ('el', 'da'), ('japonés', 'aq'), ('Mitsubishi_Corporation', 'np'), ('para', 'sp'), ('poner_en_marcha', 'vmn'), ('una', 'di'), ('central', 'nc'), ('de', 'sp'), ('gas', 'nc'), ('de', 'sp'), ('495', 'Z'), ('megavatios', 'nc'), ('.', 'Fp')]\t\n",
      "len_test=603\t[('El', 'da'), ('lehendakari', 'nc'), ('también', 'rg'), ('apeló', 'vmi'), ('al', 'sp'), ('sentido', 'nc'), ('de', 'sp'), ('\"', 'Fe'), ('agente', 'nc'), ('de', 'sp'), ('paz', 'nc'), ('\"', 'Fe'), ('que', 'pr'), ('debe', 'vmi'), ('tener', 'vmn'), ('la', 'da'), ('Universidad', 'np'), ('en', 'sp'), ('una', 'di'), ('situación', 'nc'), ('de', 'sp'), ('la', 'da'), ('sociedad', 'nc'), ('vasca', 'aq'), ('que', 'pr'), ('calificó', 'vmi'), ('de', 'sp'), ('\"', 'Fe'), ('compleja', 'aq'), ('\"', 'Fe'), ('.', 'Fp')]\t\n",
      "\n",
      "len_train=5427\t[('El', 'da'), ('grupo', 'nc'), ('estatal', 'aq'), ('Electricité_de_France', 'np'), ('-Fpa-', 'Fpa'), ('EDF', 'np'), ('-Fpt-', 'Fpt'), ('anunció', 'vmi'), ('hoy', 'rg'), (',', 'Fc'), ('jueves', 'W'), (',', 'Fc'), ('la', 'da'), ('compra', 'nc'), ('del', 'sp'), ('51_por_ciento', 'Zp'), ('de', 'sp'), ('la', 'da'), ('empresa', 'nc'), ('mexicana', 'aq'), ('Electricidad_Águila_de_Altamira', 'np'), ('-Fpa-', 'Fpa'), ('EAA', 'np'), ('-Fpt-', 'Fpt'), (',', 'Fc'), ('creada', 'aq'), ('por', 'sp'), ('el', 'da'), ('japonés', 'aq'), ('Mitsubishi_Corporation', 'np'), ('para', 'sp'), ('poner_en_marcha', 'vmn'), ('una', 'di'), ('central', 'nc'), ('de', 'sp'), ('gas', 'nc'), ('de', 'sp'), ('495', 'Z'), ('megavatios', 'nc'), ('.', 'Fp')]\t\n",
      "len_test=603\t[('Y', 'cc'), ('al_final', 'rg'), ('le', 'pp'), ('pedía', 'vmi'), ('que', 'cs'), ('colabore', 'vms'), ('conmigo', 'pp'), ('en', 'sp'), ('la', 'da'), ('campaña', 'nc'), ('electoral', 'aq'), ('vasca', 'aq'), ('-', 'Fg'), ('.', 'Fp')]\t\n",
      "\n",
      "len_train=5427\t[('El', 'da'), ('grupo', 'nc'), ('estatal', 'aq'), ('Electricité_de_France', 'np'), ('-Fpa-', 'Fpa'), ('EDF', 'np'), ('-Fpt-', 'Fpt'), ('anunció', 'vmi'), ('hoy', 'rg'), (',', 'Fc'), ('jueves', 'W'), (',', 'Fc'), ('la', 'da'), ('compra', 'nc'), ('del', 'sp'), ('51_por_ciento', 'Zp'), ('de', 'sp'), ('la', 'da'), ('empresa', 'nc'), ('mexicana', 'aq'), ('Electricidad_Águila_de_Altamira', 'np'), ('-Fpa-', 'Fpa'), ('EAA', 'np'), ('-Fpt-', 'Fpt'), (',', 'Fc'), ('creada', 'aq'), ('por', 'sp'), ('el', 'da'), ('japonés', 'aq'), ('Mitsubishi_Corporation', 'np'), ('para', 'sp'), ('poner_en_marcha', 'vmn'), ('una', 'di'), ('central', 'nc'), ('de', 'sp'), ('gas', 'nc'), ('de', 'sp'), ('495', 'Z'), ('megavatios', 'nc'), ('.', 'Fp')]\t\n",
      "len_test=603\t[('Las', 'da'), ('dos', 'pn'), ('que', 'pr'), ('sin_embargo', 'rg'), ('se', 'pp'), ('consideraban', 'vmi'), ('-', 'Fg'), ('y', 'cc'), ('considerábamos', 'vmi'), ('-', 'Fg'), ('esencialmente', 'rg'), ('editoras', 'nc'), (',', 'Fc'), ('se', 'p0'), ('han', 'vai'), ('convertido', 'vmp'), ('del_todo', 'rg'), ('a', 'sp'), ('la', 'da'), ('propia', 'di'), ('escritura', 'nc'), ('.', 'Fp')]\t\n",
      "\n",
      "len_train=5427\t[('El', 'da'), ('grupo', 'nc'), ('estatal', 'aq'), ('Electricité_de_France', 'np'), ('-Fpa-', 'Fpa'), ('EDF', 'np'), ('-Fpt-', 'Fpt'), ('anunció', 'vmi'), ('hoy', 'rg'), (',', 'Fc'), ('jueves', 'W'), (',', 'Fc'), ('la', 'da'), ('compra', 'nc'), ('del', 'sp'), ('51_por_ciento', 'Zp'), ('de', 'sp'), ('la', 'da'), ('empresa', 'nc'), ('mexicana', 'aq'), ('Electricidad_Águila_de_Altamira', 'np'), ('-Fpa-', 'Fpa'), ('EAA', 'np'), ('-Fpt-', 'Fpt'), (',', 'Fc'), ('creada', 'aq'), ('por', 'sp'), ('el', 'da'), ('japonés', 'aq'), ('Mitsubishi_Corporation', 'np'), ('para', 'sp'), ('poner_en_marcha', 'vmn'), ('una', 'di'), ('central', 'nc'), ('de', 'sp'), ('gas', 'nc'), ('de', 'sp'), ('495', 'Z'), ('megavatios', 'nc'), ('.', 'Fp')]\t\n",
      "len_test=603\t[('Con', 'sp'), ('la', 'da'), ('compra', 'nc'), ('de', 'sp'), ('acciones', 'nc'), ('en', 'sp'), ('CGO', 'np'), (',', 'Fc'), ('Autopistas_Concesionaria_Española', 'np'), ('-Fpa-', 'Fpa'), ('ACESA', 'np'), ('-Fpt-', 'Fpt'), (',', 'Fc'), ('filial', 'nc'), ('del', 'sp'), ('grupo', 'nc'), ('financiero', 'aq'), ('catalán', 'aq'), ('La_Caixa', 'np'), ('y', 'cc'), ('que', 'pr'), ('constituye', 'vmi'), ('la', 'da'), ('mayor', 'aq'), ('operadora', 'nc'), ('de', 'sp'), ('rutas', 'nc'), ('con', 'sp'), ('peajes', 'nc'), ('de', 'sp'), ('España', 'np'), (',', 'Fc'), ('presente', 'aq'), ('también', 'rg'), ('en', 'sp'), ('Portugal', 'np'), ('e', 'cc'), ('Italia', 'np'), (',', 'Fc'), ('pone', 'vmi'), ('un', 'di'), ('pie', 'nc'), ('en', 'sp'), ('Latinoamérica', 'np'), ('.', 'Fp')]\t\n",
      "\n"
     ]
    }
   ],
   "source": [
    "from random import shuffle\n",
    "from dataclasses import dataclass\n",
    "\n",
    "@dataclass\n",
    "class Fold:\n",
    "    train: list\n",
    "    test: list\n",
    "\n",
    "len_fold = int(0.1*len(corpus_sentences))\n",
    "\n",
    "corpus_10fold = [\n",
    "    Fold(\n",
    "        corpus_sentences[:len_fold*i] + corpus_sentences[len_fold*(i+1):],\n",
    "        corpus_sentences[len_fold*i : len_fold*(i+1)],  \n",
    "    )\n",
    "    for i in range(10)\n",
    "]\n",
    "\n",
    "shuffle(corpus_10fold)\n",
    "\n",
    "for fold in corpus_10fold:\n",
    "    print(f'len_train={len(fold.train)}\\t{fold.train[0]}\\t')\n",
    "    print(f'len_test={len(fold.test)}\\t{fold.test[0]}\\t')\n",
    "    print()\n",
    "   "
   ]
  },
  {
   "cell_type": "code",
   "execution_count": 6,
   "metadata": {},
   "outputs": [],
   "source": [
    "accuracy_scores = [hmm.HiddenMarkovModelTagger.train(fold.train).accuracy(fold.test) for fold in corpus_10fold]"
   ]
  },
  {
   "cell_type": "code",
   "execution_count": 7,
   "metadata": {},
   "outputs": [
    {
     "data": {
      "image/png": "[encoded data removed]",
      "text/plain": [
       "<Figure size 640x480 with 1 Axes>"
      ]
     },
     "metadata": {},
     "output_type": "display_data"
    },
    {
     "name": "stdout",
     "output_type": "stream",
     "text": [
      "mean accuracy = 0.9049859134368964\n"
     ]
    }
   ],
   "source": [
    "import matplotlib.pyplot as plt\n",
    "\n",
    "plt.bar(range(10), accuracy_scores)\n",
    "plt.xlabel('Índices')\n",
    "plt.ylabel('Precisión')\n",
    "plt.show()\n",
    "\n",
    "mean = sum(accuracy_scores)/10\n",
    "print(f'mean accuracy = {mean}')"
   ]
  },
  {
   "cell_type": "markdown",
   "metadata": {},
   "source": [
    "Usando validación cruzada se ha obtenido un 90% de precisión, en cambio usando sin ella se ha obtenido un 87%, demostrando que se obtiene un ligera mejoría usando validación cruzada"
   ]
  }
 ],
 "metadata": {
  "kernelspec": {
   "display_name": "LC_nltk",
   "language": "python",
   "name": "python3"
  },
  "language_info": {
   "codemirror_mode": {
    "name": "ipython",
    "version": 3
   },
   "file_extension": ".py",
   "mimetype": "text/x-python",
   "name": "python",
   "nbconvert_exporter": "python",
   "pygments_lexer": "ipython3",
   "version": "3.12.5"
  }
 },
 "nbformat": 4,
 "nbformat_minor": 2
}
