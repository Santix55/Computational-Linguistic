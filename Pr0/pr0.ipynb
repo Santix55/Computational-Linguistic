{
 "cells": [
  {
   "cell_type": "code",
   "execution_count": 1,
   "metadata": {},
   "outputs": [],
   "source": [
    "cadena = \"El/DT perro/N come/V carne/N de/P la/DT carnicería/N y/C de/P la/DT nevera/N y/C canta/V el/DT la/N la/N la/N ./Fp\""
   ]
  },
  {
   "cell_type": "markdown",
   "metadata": {},
   "source": [
    "## Ejercicio 1\n",
    "Crear un diccionario que muestre para cada catergoría su frecuencia y ordenadr el resultado alfabéticamente"
   ]
  },
  {
   "cell_type": "code",
   "execution_count": 2,
   "metadata": {},
   "outputs": [
    {
     "name": "stdout",
     "output_type": "stream",
     "text": [
      "C\t2\n",
      "DT\t4\n",
      "Fp\t1\n",
      "N\t7\n",
      "P\t2\n",
      "V\t2\n"
     ]
    }
   ],
   "source": [
    "palabrasYcategorias = cadena.split()                                    # dividir en palabras\n",
    "categorias = [palabra.split('/')[1] for palabra in palabrasYcategorias] # dividir cada palabra por / y quedarte solo con la parte de la derecha\n",
    "\n",
    "# Contar las categorias y almacenarlas en un diccionario\n",
    "frec_categorias = {}\n",
    "for categoria in categorias:\n",
    "    if categoria in frec_categorias:\n",
    "        frec_categorias[categoria] += 1\n",
    "    else:\n",
    "        frec_categorias[categoria] = 1\n",
    "\n",
    "# Obtener una lista de categorias únicas en orden alfabético\n",
    "uniq_cat = list(frec_categorias.keys())\n",
    "uniq_cat.sort()\n",
    "\n",
    "# Contar las categorias en \n",
    "for categoria in uniq_cat:\n",
    "    print(categoria + \"\\t\" + str(frec_categorias[categoria]))"
   ]
  },
  {
   "cell_type": "markdown",
   "metadata": {},
   "source": [
    "## Ejercicio 2\n",
    "Obtener un diccionario, que para cada palabra, muestre su frecuencia, y una lista de \n",
    "sus categorías morfosintácticas con su respectiva frecuencia. Mostrar el resultado \n",
    "ordenado alfabéticamente por palabra."
   ]
  },
  {
   "cell_type": "code",
   "execution_count": 3,
   "metadata": {},
   "outputs": [
    {
     "name": "stdout",
     "output_type": "stream",
     "text": [
      ". 2  Fp 1\n",
      "El 2  DT 1\n",
      "canta 2  V 1\n",
      "carne 2  N 1\n",
      "carnicería 2  N 1\n",
      "come 2  V 1\n",
      "de 3  P 2\n",
      "el 2  DT 1\n",
      "la 6  DT 2 N 3\n",
      "nevera 2  N 1\n",
      "perro 2  N 1\n",
      "y 3  C 2\n"
     ]
    }
   ],
   "source": [
    "palabras = [palabra.split('/')[1] for palabra in palabrasYcategorias] # dividir cada palabra por / y quedarte solo con la parte de la izquierda\n",
    "\n",
    "# Contar cada palabra y cada categoria en un diccionario de diccionarios\n",
    "frec_palabras = {}\n",
    "for palabra, categoria in [palabra.split('/') for palabra in palabrasYcategorias]:\n",
    "    if not palabra in frec_palabras:\n",
    "        frec_palabras[palabra] = {categoria:1}\n",
    "    elif not categoria in frec_palabras[palabra]:\n",
    "        frec_palabras[palabra][categoria] = 1\n",
    "    else:\n",
    "        frec_palabras[palabra][categoria] += 1\n",
    "\n",
    "# Obtener las palabras en orden alfabético\n",
    "uniq_palabras = list(frec_palabras.keys())\n",
    "uniq_palabras.sort()\n",
    "\n",
    "# Recorrer el diccionario de palabras en orden alfabetico, mostrando el conteo de cada categoría\n",
    "for palabra in uniq_palabras:\n",
    "    salida_categoria = \"\"\n",
    "    sum_rep_palabra = 1\n",
    "    for categoria in frec_palabras[palabra]:\n",
    "        salida_categoria += f\" {categoria} {frec_palabras[palabra][categoria]}\"\n",
    "        sum_rep_palabra += frec_palabras[palabra][categoria]\n",
    "    print(f\"{palabra} {sum_rep_palabra} {salida_categoria}\")\n"
   ]
  },
  {
   "cell_type": "markdown",
   "metadata": {},
   "source": [
    "## Ejercicio 3\n",
    "Calcular la frecuencia de los todos los bigramas de la cadena"
   ]
  },
  {
   "cell_type": "code",
   "execution_count": 4,
   "metadata": {},
   "outputs": [
    {
     "name": "stdout",
     "output_type": "stream",
     "text": [
      "('<S>', 'DT') 1\n",
      "('DT', 'N') 4\n",
      "('N', 'V') 1\n",
      "('V', 'N') 1\n",
      "('N', 'P') 1\n",
      "('P', 'DT') 2\n",
      "('N', 'C') 2\n",
      "('C', 'P') 1\n",
      "('C', 'V') 1\n",
      "('V', 'DT') 1\n",
      "('N', 'N') 2\n",
      "('N', 'Fp') 1\n",
      "('Fp', '</S>') 1\n"
     ]
    }
   ],
   "source": [
    "from collections import Counter\n",
    "\n",
    "# Obtener todos los bigramas en un array\n",
    "bigramas = []\n",
    "categoria_previa = \"<S>\"\n",
    "for categoria_actual in categorias:\n",
    "    bigramas.append((categoria_previa, categoria_actual))\n",
    "    categoria_previa = categoria_actual\n",
    "bigramas.append((categoria_previa, \"</S>\"))\n",
    "\n",
    "# Generar un diccionario con un contador y mostrar la frecuencia\n",
    "frec_bigramas = Counter(bigramas)\n",
    "for bigrama in frec_bigramas:\n",
    "    print(f\"{bigrama} {frec_bigramas[bigrama]}\")\n"
   ]
  },
  {
   "cell_type": "markdown",
   "metadata": {},
   "source": [
    "## Ejercicio 4\n",
    "Construir una función que devuelva las probabilidades léxicas P(C|w) y de emisión \n",
    "P(w|C) para una palabra dada (w) para todas sus categorías (C) que aparecen en el \n",
    "diccionario construido anteriormente. Si la palabra no existe en el diccionario debe \n",
    "decir que la palabra es desconocida"
   ]
  },
  {
   "cell_type": "code",
   "execution_count": 5,
   "metadata": {},
   "outputs": [
    {
     "name": "stdout",
     "output_type": "stream",
     "text": [
      "P(DT|la) = 0.4\n",
      "P(la|DT) = 0.5000000000000001\n",
      "P(N|la) = 0.6\n",
      "P(la|N) = 0.42857142857142855\n",
      "\n"
     ]
    }
   ],
   "source": [
    "def probabilidadesLexicasYEmision(palabra:str):\n",
    "    if not palabra in frec_palabras:\n",
    "        print(\"La palabra es desconicida\")\n",
    "        return\n",
    "    \n",
    "    total = len(palabrasYcategorias)\n",
    "\n",
    "    frec_w = sum(frec_palabras[palabra].values())\n",
    "    prob_w = frec_w / total # P(w)\n",
    "\n",
    "    for categoria in frec_palabras[palabra]:\n",
    "        frec_c_w = frec_palabras[palabra][categoria]\n",
    "        prob_c_w = frec_c_w / frec_w # P(C|w)\n",
    "\n",
    "        frec_c = frec_categorias[categoria]\n",
    "        prob_c = frec_c / total # P(C)\n",
    "\n",
    "        # Usar Bayes\n",
    "        prob_w_c = prob_c_w * prob_w / prob_c # P(w|C)\n",
    "\n",
    "        print(f\"P({categoria}|{palabra}) = {prob_c_w}\")\n",
    "        print(f\"P({palabra}|{categoria}) = {prob_w_c}\")\n",
    "\n",
    "    print()\n",
    "\n",
    "probabilidadesLexicasYEmision(\"la\")"
   ]
  }
 ],
 "metadata": {
  "kernelspec": {
   "display_name": "Python 3",
   "language": "python",
   "name": "python3"
  },
  "language_info": {
   "codemirror_mode": {
    "name": "ipython",
    "version": 3
   },
   "file_extension": ".py",
   "mimetype": "text/x-python",
   "name": "python",
   "nbconvert_exporter": "python",
   "pygments_lexer": "ipython3",
   "version": "3.11.9"
  }
 },
 "nbformat": 4,
 "nbformat_minor": 2
}
