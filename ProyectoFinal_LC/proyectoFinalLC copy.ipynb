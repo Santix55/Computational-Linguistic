{
 "cells": [
  {
   "cell_type": "markdown",
   "metadata": {},
   "source": [
    "# Trabajo Final LC: Etiquetadores morfosintácticos para el español\n",
    "**Autor:** Santiago Millán Giner"
   ]
  },
  {
   "cell_type": "markdown",
   "metadata": {},
   "source": [
    "### Tarea 1: Evaluación  del  etiquetador ‘hmm’  sobre  el  corpus ‘cess-esp’utilizando  el  juego  de categorías completo y reducido"
   ]
  },
  {
   "cell_type": "markdown",
   "metadata": {},
   "source": [
    "> Utilizando el etiquetador hmm basado en modelos de Markov, se realizará una validación cruzada \n",
    "sobre 10 particiones del corpus. Barajar el corpus antes de realizar las particiones. Presentar los \n",
    "resultados en forma de tabla y gráficamente, incluyendo los intervalos de confianza."
   ]
  },
  {
   "cell_type": "code",
   "execution_count": 25,
   "metadata": {},
   "outputs": [
    {
     "name": "stdout",
     "output_type": "stream",
     "text": [
      "[('El', 'da0ms0'), ('grupo', 'ncms000'), ('estatal', 'aq0cs0'), ('Electricité_de_France', 'np00000'), ('-Fpa-', 'Fpa'), ('EDF', 'np00000'), ('-Fpt-', 'Fpt'), ('anunció', 'vmis3s0'), ('hoy', 'rg'), (',', 'Fc'), ('jueves', 'W'), (',', 'Fc'), ('la', 'da0fs0'), ('compra', 'ncfs000'), ('del', 'spcms'), ('51_por_ciento', 'Zp'), ('de', 'sps00'), ('la', 'da0fs0'), ('empresa', 'ncfs000'), ('mexicana', 'aq0fs0'), ('Electricidad_Águila_de_Altamira', 'np00000'), ('-Fpa-', 'Fpa'), ('EAA', 'np00000'), ('-Fpt-', 'Fpt'), (',', 'Fc'), ('creada', 'aq0fsp'), ('por', 'sps00'), ('el', 'da0ms0'), ('japonés', 'aq0ms0'), ('Mitsubishi_Corporation', 'np00000'), ('para', 'sps00'), ('poner_en_marcha', 'vmn0000'), ('una', 'di0fs0'), ('central', 'ncfs000'), ('de', 'sps00'), ('gas', 'ncms000'), ('de', 'sps00'), ('495', 'Z'), ('megavatios', 'ncmp000'), ('.', 'Fp')]\n"
     ]
    }
   ],
   "source": [
    "# Cargar el corpus\n",
    "import nltk\n",
    "from nltk.corpus import cess_esp\n",
    "\n",
    "corpus_sentences_view = cess_esp.tagged_sents()\n",
    "\n",
    "print(corpus_sentences_view[0])"
   ]
  },
  {
   "cell_type": "code",
   "execution_count": 26,
   "metadata": {},
   "outputs": [
    {
     "name": "stdout",
     "output_type": "stream",
     "text": [
      "[('-', 'Fg'), ('-', 'Fg'), ('-', 'Fg'), ('*0*', 'sn.e-SUJ'), ('Es', 'vsip3s0'), ('una', 'di0fs0'), ('isla', 'ncfs000'), ('?', 'Fit')]\n"
     ]
    }
   ],
   "source": [
    "# Barajar el corpus\n",
    "import random\n",
    "\n",
    "corpus_sentences = list(corpus_sentences_view)\n",
    "random.shuffle(corpus_sentences)\n",
    "\n",
    "print(corpus_sentences[0])"
   ]
  },
  {
   "cell_type": "code",
   "execution_count": 28,
   "metadata": {},
   "outputs": [
    {
     "name": "stdout",
     "output_type": "stream",
     "text": [
      "10\n",
      "603\n",
      "603\n",
      "603\n",
      "603\n",
      "603\n",
      "603\n",
      "603\n",
      "603\n",
      "603\n",
      "603\n"
     ]
    }
   ],
   "source": [
    "# Hacer 10 particiones\n",
    "len_part = len(corpus_sentences)//10\n",
    "corpus_part = [[] for _ in range(10)]\n",
    "for i, sentence in enumerate(corpus_sentences):\n",
    "    row = i // len_part\n",
    "    corpus_part[row].append(sentence)\n",
    "\n",
    "print(len(corpus_part))\n",
    "for part in corpus_part:\n",
    "    print(len(part))"
   ]
  },
  {
   "cell_type": "code",
   "execution_count": 31,
   "metadata": {},
   "outputs": [
    {
     "name": "stdout",
     "output_type": "stream",
     "text": [
      "[('La', 'da'), ('villa', 'nc'), ('había', 'vai'), ('nacido', 'vmp'), ('como', 'cs'), ('una', 'di'), ('excrescencia', 'nc'), ('cancerosa', 'aq'), (',', 'Fc'), ('desordenadamente', 'rg'), (',', 'Fc'), ('allí', 'rg'), ('donde', 'pr'), ('termina', 'vmi'), ('el', 'da'), ('asfalto', 'nc'), ('y', 'cc'), ('la', 'da'), ('esperanza', 'nc'), ('.', 'Fp')]\n",
      "10\n",
      "603\n",
      "603\n",
      "603\n",
      "603\n",
      "603\n",
      "603\n",
      "603\n",
      "603\n",
      "603\n",
      "603\n"
     ]
    }
   ],
   "source": [
    "# Crear un corpus con un juego de etiquetas límitado\n",
    "corpus_sentences_R = []\n",
    "for sentence in corpus_sentences:\n",
    "    new_sentence = []\n",
    "    \n",
    "    for taged_word in sentence:\n",
    "        word, tag = taged_word\n",
    "        main_category = tag[0]\n",
    "\n",
    "        if word == '*0*':\n",
    "            continue\n",
    "\n",
    "        if main_category == 'v':    # verbo\n",
    "            new_tag = tag[:3]\n",
    "        elif main_category ==  'F': # signo de puntuación\n",
    "            new_tag = tag[:3]\n",
    "        else:                       # otro\n",
    "            new_tag = tag[:2]\n",
    "\n",
    "        new_sentence.append((word, new_tag))\n",
    "\n",
    "    corpus_sentences_R.append(new_sentence)\n",
    "\n",
    "print(corpus_sentences_R[1])\n",
    "\n",
    "# Hacer 10 particiones\n",
    "corpus_part_R = [[] for _ in range(10)]\n",
    "for i, sentence in enumerate(corpus_sentences_R):\n",
    "    row = i // len_part\n",
    "    corpus_part_R[row].append(sentence)\n",
    "\n",
    "print(len(corpus_part_R))\n",
    "for part in corpus_part_R:\n",
    "    print(len(part))"
   ]
  },
  {
   "cell_type": "markdown",
   "metadata": {},
   "source": [
    "#### Completo"
   ]
  },
  {
   "cell_type": "code",
   "execution_count": 4,
   "metadata": {},
   "outputs": [],
   "source": [
    "from nltk.tag import hmm\n",
    "\n",
    "accs = []\n",
    "\n",
    "for idx_test, test in enumerate(corpus_part):\n",
    "    train = corpus_part[:] # copiar\n",
    "    train.pop(idx_test) # eliminar test\n",
    "\n",
    "    '''\n",
    "    # Mostrar el id particiones de entrenamiento\n",
    "    for p in train:\n",
    "        print(id(p))\n",
    "    print()\n",
    "    '''\n",
    "\n",
    "    train = [item for sublist in train for item in sublist] # aplanar\n",
    "\n",
    "    tagger = hmm.HiddenMarkovModelTagger.train(train)\n",
    "    accs.append(tagger.accuracy(test))"
   ]
  },
  {
   "cell_type": "code",
   "execution_count": 39,
   "metadata": {},
   "outputs": [],
   "source": [
    "import scipy.stats as stats\n",
    "import numpy as np\n",
    "\n",
    "def confidence_interval(accs, prob=0.95):\n",
    "    # Calcular la media y el error estándar de la media\n",
    "    mean = np.mean(accs)\n",
    "    sem = stats.sem(accs)\n",
    "    \n",
    "    # Calcular el intervalo de confianza\n",
    "    interval = stats.t.interval(prob, len(accs)-1, loc=mean, scale=sem)\n",
    "    \n",
    "    return f\"{mean*100:.2f} ± {(interval[1]-interval[0])/2*100:.2f}% = [{interval[0]:.4f}, {interval[1]:.4f}]\"\n"
   ]
  },
  {
   "cell_type": "code",
   "execution_count": 26,
   "metadata": {},
   "outputs": [
    {
     "data": {
      "text/plain": [
       "'89.65 ± 0.21% = [0.8944, 0.8986]'"
      ]
     },
     "execution_count": 26,
     "metadata": {},
     "output_type": "execute_result"
    }
   ],
   "source": [
    "confidence_interval(accs)"
   ]
  },
  {
   "cell_type": "code",
   "execution_count": 28,
   "metadata": {},
   "outputs": [
    {
     "data": {
      "text/plain": [
       "(0.0, 1.0)"
      ]
     },
     "execution_count": 28,
     "metadata": {},
     "output_type": "execute_result"
    },
    {
     "data": {
      "image/png": "[encoded data removed]",
      "text/plain": [
       "<Figure size 1000x600 with 1 Axes>"
      ]
     },
     "metadata": {},
     "output_type": "display_data"
    }
   ],
   "source": [
    "import matplotlib.pyplot as plt\n",
    "\n",
    "plt.figure(figsize=(10, 6))\n",
    "plt.bar(range(len(accs)), accs, color='blue', alpha=0.7)\n",
    "    \n",
    "plt.xlabel('Índice')\n",
    "plt.ylabel('Precisión')\n",
    "\n",
    "plt.ylim(0, 1)"
   ]
  },
  {
   "cell_type": "code",
   "execution_count": 35,
   "metadata": {},
   "outputs": [
    {
     "data": {
      "text/html": [
       "<div>\n",
       "<style scoped>\n",
       "    .dataframe tbody tr th:only-of-type {\n",
       "        vertical-align: middle;\n",
       "    }\n",
       "\n",
       "    .dataframe tbody tr th {\n",
       "        vertical-align: top;\n",
       "    }\n",
       "\n",
       "    .dataframe thead th {\n",
       "        text-align: right;\n",
       "    }\n",
       "</style>\n",
       "<table border=\"1\" class=\"dataframe\">\n",
       "  <thead>\n",
       "    <tr style=\"text-align: right;\">\n",
       "      <th></th>\n",
       "      <th>Precisión</th>\n",
       "    </tr>\n",
       "  </thead>\n",
       "  <tbody>\n",
       "    <tr>\n",
       "      <th>0</th>\n",
       "      <td>0.902726</td>\n",
       "    </tr>\n",
       "    <tr>\n",
       "      <th>1</th>\n",
       "      <td>0.894018</td>\n",
       "    </tr>\n",
       "    <tr>\n",
       "      <th>2</th>\n",
       "      <td>0.895029</td>\n",
       "    </tr>\n",
       "    <tr>\n",
       "      <th>3</th>\n",
       "      <td>0.894077</td>\n",
       "    </tr>\n",
       "    <tr>\n",
       "      <th>4</th>\n",
       "      <td>0.897296</td>\n",
       "    </tr>\n",
       "    <tr>\n",
       "      <th>5</th>\n",
       "      <td>0.900041</td>\n",
       "    </tr>\n",
       "    <tr>\n",
       "      <th>6</th>\n",
       "      <td>0.893084</td>\n",
       "    </tr>\n",
       "    <tr>\n",
       "      <th>7</th>\n",
       "      <td>0.895966</td>\n",
       "    </tr>\n",
       "    <tr>\n",
       "      <th>8</th>\n",
       "      <td>0.895916</td>\n",
       "    </tr>\n",
       "    <tr>\n",
       "      <th>9</th>\n",
       "      <td>0.897070</td>\n",
       "    </tr>\n",
       "  </tbody>\n",
       "</table>\n",
       "</div>"
      ],
      "text/plain": [
       "   Precisión\n",
       "0   0.902726\n",
       "1   0.894018\n",
       "2   0.895029\n",
       "3   0.894077\n",
       "4   0.897296\n",
       "5   0.900041\n",
       "6   0.893084\n",
       "7   0.895966\n",
       "8   0.895916\n",
       "9   0.897070"
      ]
     },
     "execution_count": 35,
     "metadata": {},
     "output_type": "execute_result"
    }
   ],
   "source": [
    "import pandas as pd\n",
    "df = pd.DataFrame({'Precisión': accs})\n",
    "df"
   ]
  },
  {
   "cell_type": "markdown",
   "metadata": {},
   "source": [
    "Como podemos observar el modelo siempre alcanza una precisión muy cercana al 90% con poco margen de error, sin importar la parte corpus que se ha utilizado como test o entrenamiento, usando las etiquetas completas."
   ]
  },
  {
   "cell_type": "markdown",
   "metadata": {},
   "source": [
    "#### Reducido"
   ]
  },
  {
   "cell_type": "code",
   "execution_count": 36,
   "metadata": {},
   "outputs": [],
   "source": [
    "accs_R = []\n",
    "for idx_test, test in enumerate(corpus_part_R):\n",
    "    train = corpus_part_R[:] # copiar\n",
    "    train.pop(idx_test) # eliminar test\n",
    "\n",
    "    '''\n",
    "    # Mostrar el id particiones de entrenamiento\n",
    "    for p in train:\n",
    "        print(id(p))\n",
    "    print()\n",
    "    '''\n",
    "\n",
    "    train = [item for sublist in train for item in sublist] # aplanar\n",
    "\n",
    "    tagger = hmm.HiddenMarkovModelTagger.train(train)\n",
    "    accs_R.append(tagger.accuracy(test))"
   ]
  },
  {
   "cell_type": "code",
   "execution_count": 37,
   "metadata": {},
   "outputs": [
    {
     "data": {
      "text/plain": [
       "(0.0, 1.0)"
      ]
     },
     "execution_count": 37,
     "metadata": {},
     "output_type": "execute_result"
    },
    {
     "data": {
      "image/png": "[encoded data removed]",
      "text/plain": [
       "<Figure size 1000x600 with 1 Axes>"
      ]
     },
     "metadata": {},
     "output_type": "display_data"
    }
   ],
   "source": [
    "import matplotlib.pyplot as plt\n",
    "\n",
    "plt.figure(figsize=(10, 6))\n",
    "plt.bar(range(len(accs_R)), accs_R, color='blue', alpha=0.7)\n",
    "    \n",
    "plt.xlabel('Índice')\n",
    "plt.ylabel('Precisión')\n",
    "\n",
    "plt.ylim(0, 1)"
   ]
  },
  {
   "cell_type": "code",
   "execution_count": 38,
   "metadata": {},
   "outputs": [
    {
     "data": {
      "text/html": [
       "<div>\n",
       "<style scoped>\n",
       "    .dataframe tbody tr th:only-of-type {\n",
       "        vertical-align: middle;\n",
       "    }\n",
       "\n",
       "    .dataframe tbody tr th {\n",
       "        vertical-align: top;\n",
       "    }\n",
       "\n",
       "    .dataframe thead th {\n",
       "        text-align: right;\n",
       "    }\n",
       "</style>\n",
       "<table border=\"1\" class=\"dataframe\">\n",
       "  <thead>\n",
       "    <tr style=\"text-align: right;\">\n",
       "      <th></th>\n",
       "      <th>Precisión</th>\n",
       "    </tr>\n",
       "  </thead>\n",
       "  <tbody>\n",
       "    <tr>\n",
       "      <th>0</th>\n",
       "      <td>0.926726</td>\n",
       "    </tr>\n",
       "    <tr>\n",
       "      <th>1</th>\n",
       "      <td>0.926661</td>\n",
       "    </tr>\n",
       "    <tr>\n",
       "      <th>2</th>\n",
       "      <td>0.925778</td>\n",
       "    </tr>\n",
       "    <tr>\n",
       "      <th>3</th>\n",
       "      <td>0.923956</td>\n",
       "    </tr>\n",
       "    <tr>\n",
       "      <th>4</th>\n",
       "      <td>0.924122</td>\n",
       "    </tr>\n",
       "    <tr>\n",
       "      <th>5</th>\n",
       "      <td>0.926262</td>\n",
       "    </tr>\n",
       "    <tr>\n",
       "      <th>6</th>\n",
       "      <td>0.925230</td>\n",
       "    </tr>\n",
       "    <tr>\n",
       "      <th>7</th>\n",
       "      <td>0.925887</td>\n",
       "    </tr>\n",
       "    <tr>\n",
       "      <th>8</th>\n",
       "      <td>0.926190</td>\n",
       "    </tr>\n",
       "    <tr>\n",
       "      <th>9</th>\n",
       "      <td>0.928783</td>\n",
       "    </tr>\n",
       "  </tbody>\n",
       "</table>\n",
       "</div>"
      ],
      "text/plain": [
       "   Precisión\n",
       "0   0.926726\n",
       "1   0.926661\n",
       "2   0.925778\n",
       "3   0.923956\n",
       "4   0.924122\n",
       "5   0.926262\n",
       "6   0.925230\n",
       "7   0.925887\n",
       "8   0.926190\n",
       "9   0.928783"
      ]
     },
     "execution_count": 38,
     "metadata": {},
     "output_type": "execute_result"
    }
   ],
   "source": [
    "import pandas as pd\n",
    "df = pd.DataFrame({'Precisión': accs_R})\n",
    "df"
   ]
  },
  {
   "cell_type": "code",
   "execution_count": 40,
   "metadata": {},
   "outputs": [
    {
     "data": {
      "text/plain": [
       "'92.60 ± 0.10% = [0.9250, 0.9269]'"
      ]
     },
     "execution_count": 40,
     "metadata": {},
     "output_type": "execute_result"
    }
   ],
   "source": [
    "confidence_interval(accs_R)"
   ]
  },
  {
   "cell_type": "markdown",
   "metadata": {},
   "source": [
    "### Tarea  2:  Evaluación  de  las  prestaciones  del  etiquetador  respecto  a  la  cantidad  de  datos  de aprendizaje\n",
    "\n",
    "> Se trata de estudiar cómo varían las prestaciones del etiquetador hmm cuando varía el tamaño del corpus de aprendizaje. Para este experimento se dividirá el corpus de entrenamiento en 10 partes de  tamaño similar. La  partición  10 se  tomará como test, y las 9 particiones restantes se tomarán como entrenamiento. En cada ejecución,se irá incrementando sucesivamente el tamaño del corpus de entrenamiento, manteniendo fija la partición de test.\n"
   ]
  },
  {
   "cell_type": "code",
   "execution_count": 7,
   "metadata": {},
   "outputs": [],
   "source": [
    "# Aplana un nivel la lista\n",
    "def flatten(list):\n",
    "    return [item for sublist in list for item in sublist]"
   ]
  },
  {
   "cell_type": "code",
   "execution_count": 9,
   "metadata": {},
   "outputs": [],
   "source": [
    "from nltk.tag import hmm\n",
    "\n",
    "# Utilizar el último para test, para entramiento va incrementando de solo el primero hasta el penúltimo\n",
    "accs = [hmm.HiddenMarkovModelTagger.train(flatten(corpus_part[:i])).accuracy(corpus_part[9]) for i in range(1,10)]"
   ]
  },
  {
   "cell_type": "code",
   "execution_count": 24,
   "metadata": {},
   "outputs": [
    {
     "data": {
      "text/html": [
       "<div>\n",
       "<style scoped>\n",
       "    .dataframe tbody tr th:only-of-type {\n",
       "        vertical-align: middle;\n",
       "    }\n",
       "\n",
       "    .dataframe tbody tr th {\n",
       "        vertical-align: top;\n",
       "    }\n",
       "\n",
       "    .dataframe thead th {\n",
       "        text-align: right;\n",
       "    }\n",
       "</style>\n",
       "<table border=\"1\" class=\"dataframe\">\n",
       "  <thead>\n",
       "    <tr style=\"text-align: right;\">\n",
       "      <th></th>\n",
       "      <th>Precisión</th>\n",
       "    </tr>\n",
       "  </thead>\n",
       "  <tbody>\n",
       "    <tr>\n",
       "      <th>1</th>\n",
       "      <td>0.785229</td>\n",
       "    </tr>\n",
       "    <tr>\n",
       "      <th>2</th>\n",
       "      <td>0.824803</td>\n",
       "    </tr>\n",
       "    <tr>\n",
       "      <th>3</th>\n",
       "      <td>0.846997</td>\n",
       "    </tr>\n",
       "    <tr>\n",
       "      <th>4</th>\n",
       "      <td>0.859672</td>\n",
       "    </tr>\n",
       "    <tr>\n",
       "      <th>5</th>\n",
       "      <td>0.868496</td>\n",
       "    </tr>\n",
       "    <tr>\n",
       "      <th>6</th>\n",
       "      <td>0.878175</td>\n",
       "    </tr>\n",
       "    <tr>\n",
       "      <th>7</th>\n",
       "      <td>0.885395</td>\n",
       "    </tr>\n",
       "    <tr>\n",
       "      <th>8</th>\n",
       "      <td>0.889887</td>\n",
       "    </tr>\n",
       "    <tr>\n",
       "      <th>9</th>\n",
       "      <td>0.894059</td>\n",
       "    </tr>\n",
       "  </tbody>\n",
       "</table>\n",
       "</div>"
      ],
      "text/plain": [
       "   Precisión\n",
       "1   0.785229\n",
       "2   0.824803\n",
       "3   0.846997\n",
       "4   0.859672\n",
       "5   0.868496\n",
       "6   0.878175\n",
       "7   0.885395\n",
       "8   0.889887\n",
       "9   0.894059"
      ]
     },
     "execution_count": 24,
     "metadata": {},
     "output_type": "execute_result"
    },
    {
     "data": {
      "image/png": "[encoded data removed]",
      "text/plain": [
       "<Figure size 1000x600 with 1 Axes>"
      ]
     },
     "metadata": {},
     "output_type": "display_data"
    }
   ],
   "source": [
    "import matplotlib.pyplot as plt\n",
    "import pandas as pd\n",
    "\n",
    "plt.figure(figsize=(10, 6))\n",
    "plt.bar(range(1,10), accs, color='blue', alpha=0.7)\n",
    "    \n",
    "plt.xlabel('Particiones utilizada')\n",
    "plt.ylabel('Precisión')\n",
    "\n",
    "plt.ylim(0, 1)\n",
    "\n",
    "df = pd.DataFrame({'Precisión': accs})\n",
    "df.index = df.index+1\n",
    "df"
   ]
  },
  {
   "cell_type": "markdown",
   "metadata": {},
   "source": [
    "La precisión aumenta conforme vamos aumentado la longitud del entrenamiento. Conforme vamos añadiendo más muestras, la mejora de la precisión va dismunyendo a medida que aumentamos la talla, pero nunca empeora."
   ]
  },
  {
   "cell_type": "markdown",
   "metadata": {},
   "source": [
    "### Tarea 3: Evaluación del método de suavizado para palabras desconocidaspara el etiquetador tnt\n"
   ]
  },
  {
   "cell_type": "markdown",
   "metadata": {},
   "source": [
    ">El etiquetador tnt por defecto no incorpora un método de suavizado para las palabras desconocidas. Utiliza  un  método  basado  en  los  sufijos  de  las  palabras  para  construir  un  modelo  para  las  palabras desconocidas(Affix  Tagger).  En  base  al  sufijo  de  la  palabra  desconocida  le  asigna  una  categoría morfosintáctica. Este método funcionarazonablementebien para el inglés. En concreto,se trata de estudiar diferentes longitudes del sufijo (número de letras que se tienen en cuenta) y estudiar cómo varían las prestaciones del etiquetador.\n",
    "\n",
    "> Una vez se haya decidido el sufijo que mejores prestaciones proporciona, incorporarlo como modelo de suavizado al etiquetador tnt y comprobar si aumenta susprestaciones"
   ]
  },
  {
   "cell_type": "markdown",
   "metadata": {},
   "source": [
    "Primero pruebo el Affix tagger con sufijos de 1 a 7, estableciendo la longitud del sufijo en la variable affix_tagger como un valor negativo"
   ]
  },
  {
   "cell_type": "code",
   "execution_count": 41,
   "metadata": {},
   "outputs": [],
   "source": [
    "from nltk.tag import AffixTagger\n",
    "\n",
    "accs_matrix = [[] for _ in range(10)]   # [idx_fold][suffix_len-1]\n",
    "\n",
    "for idx_test, test in enumerate(corpus_part):\n",
    "    train = corpus_part[:] # copiar\n",
    "    train.pop(idx_test) # eliminar test\n",
    "\n",
    "    '''\n",
    "    # Mostrar el id particiones de entrenamiento\n",
    "    for p in train:\n",
    "        print(id(p))\n",
    "    print()\n",
    "    '''\n",
    "\n",
    "    train = [item for sublist in train for item in sublist] # aplanar\n",
    "\n",
    "    accs_matrix[idx_test] = []\n",
    "\n",
    "    for suffix_len in range(1, 7):\n",
    "        affix_tagger = AffixTagger(train=train, affix_length=-suffix_len)\n",
    "        accs_matrix[idx_test].append(affix_tagger.accuracy(test))\n"
   ]
  },
  {
   "cell_type": "code",
   "execution_count": 44,
   "metadata": {},
   "outputs": [
    {
     "data": {
      "image/png": "[encoded data removed]",
      "text/plain": [
       "<Figure size 640x480 with 1 Axes>"
      ]
     },
     "metadata": {},
     "output_type": "display_data"
    }
   ],
   "source": [
    "for idx_fold, accs_fold in enumerate(accs_matrix):\n",
    "    plt.plot([suffix_len for suffix_len in range(1,7)], accs_fold, label=f'fold {idx_fold}')\n",
    "\n",
    "plt.xlabel(\"Precisión\")\n",
    "plt.ylabel(\"Longitud del sufijo\")\n",
    "\n",
    "plt.show()\n",
    "    "
   ]
  },
  {
   "cell_type": "code",
   "execution_count": 63,
   "metadata": {},
   "outputs": [],
   "source": [
    "def transpose(matrix):\n",
    "    return [list(row) for row in zip(*matrix)]\n",
    "\n",
    "accs_matrix = transpose(accs_matrix)"
   ]
  },
  {
   "cell_type": "code",
   "execution_count": 61,
   "metadata": {},
   "outputs": [
    {
     "name": "stdout",
     "output_type": "stream",
     "text": [
      "Longitud del sufijo =  1\n",
      "   Precisión    Intervalo de confianza del 95%\n",
      "0   0.225132  22.30 ± 0.24% = [0.2206, 0.2254]\n",
      "1   0.223284  22.30 ± 0.24% = [0.2206, 0.2254]\n",
      "2   0.221773  22.30 ± 0.24% = [0.2206, 0.2254]\n",
      "3   0.217488  22.30 ± 0.24% = [0.2206, 0.2254]\n",
      "4   0.230327  22.30 ± 0.24% = [0.2206, 0.2254]\n",
      "5   0.223104  22.30 ± 0.24% = [0.2206, 0.2254]\n",
      "6   0.224373  22.30 ± 0.24% = [0.2206, 0.2254]\n",
      "7   0.220451  22.30 ± 0.24% = [0.2206, 0.2254]\n",
      "8   0.221455  22.30 ± 0.24% = [0.2206, 0.2254]\n",
      "9   0.222575  22.30 ± 0.24% = [0.2206, 0.2254] \n",
      "\n",
      "Longitud del sufijo =  2\n",
      "   Precisión    Intervalo de confianza del 95%\n",
      "0   0.255050  25.24 ± 0.26% = [0.2498, 0.2550]\n",
      "1   0.251584  25.24 ± 0.26% = [0.2498, 0.2550]\n",
      "2   0.250259  25.24 ± 0.26% = [0.2498, 0.2550]\n",
      "3   0.248965  25.24 ± 0.26% = [0.2498, 0.2550]\n",
      "4   0.260543  25.24 ± 0.26% = [0.2498, 0.2550]\n",
      "5   0.248094  25.24 ± 0.26% = [0.2498, 0.2550]\n",
      "6   0.251587  25.24 ± 0.26% = [0.2498, 0.2550]\n",
      "7   0.250967  25.24 ± 0.26% = [0.2498, 0.2550]\n",
      "8   0.252356  25.24 ± 0.26% = [0.2498, 0.2550]\n",
      "9   0.255051  25.24 ± 0.26% = [0.2498, 0.2550] \n",
      "\n",
      "Longitud del sufijo =  3\n",
      "   Precisión    Intervalo de confianza del 95%\n",
      "0   0.276019  27.44 ± 0.27% = [0.2717, 0.2771]\n",
      "1   0.270225  27.44 ± 0.27% = [0.2717, 0.2771]\n",
      "2   0.272260  27.44 ± 0.27% = [0.2717, 0.2771]\n",
      "3   0.274953  27.44 ± 0.27% = [0.2717, 0.2771]\n",
      "4   0.279257  27.44 ± 0.27% = [0.2717, 0.2771]\n",
      "5   0.272671  27.44 ± 0.27% = [0.2717, 0.2771]\n",
      "6   0.279660  27.44 ± 0.27% = [0.2717, 0.2771]\n",
      "7   0.275212  27.44 ± 0.27% = [0.2717, 0.2771]\n",
      "8   0.267755  27.44 ± 0.27% = [0.2717, 0.2771]\n",
      "9   0.276420  27.44 ± 0.27% = [0.2717, 0.2771] \n",
      "\n",
      "Longitud del sufijo =  4\n",
      "   Precisión    Intervalo de confianza del 95%\n",
      "0   0.251624  24.92 ± 0.26% = [0.2466, 0.2518]\n",
      "1   0.245820  24.92 ± 0.26% = [0.2466, 0.2518]\n",
      "2   0.251816  24.92 ± 0.26% = [0.2466, 0.2518]\n",
      "3   0.247204  24.92 ± 0.26% = [0.2466, 0.2518]\n",
      "4   0.254439  24.92 ± 0.26% = [0.2466, 0.2518]\n",
      "5   0.245775  24.92 ± 0.26% = [0.2466, 0.2518]\n",
      "6   0.253953  24.92 ± 0.26% = [0.2466, 0.2518]\n",
      "7   0.246421  24.92 ± 0.26% = [0.2466, 0.2518]\n",
      "8   0.244992  24.92 ± 0.26% = [0.2466, 0.2518]\n",
      "9   0.249921  24.92 ± 0.26% = [0.2466, 0.2518] \n",
      "\n",
      "Longitud del sufijo =  5\n",
      "   Precisión    Intervalo de confianza del 95%\n",
      "0   0.216795  21.50 ± 0.26% = [0.2125, 0.2176]\n",
      "1   0.216066  21.50 ± 0.26% = [0.2125, 0.2176]\n",
      "2   0.216636  21.50 ± 0.26% = [0.2125, 0.2176]\n",
      "3   0.213036  21.50 ± 0.26% = [0.2125, 0.2176]\n",
      "4   0.215042  21.50 ± 0.26% = [0.2125, 0.2176]\n",
      "5   0.213108  21.50 ± 0.26% = [0.2125, 0.2176]\n",
      "6   0.221846  21.50 ± 0.26% = [0.2125, 0.2176]\n",
      "7   0.210367  21.50 ± 0.26% = [0.2125, 0.2176]\n",
      "8   0.209765  21.50 ± 0.26% = [0.2125, 0.2176]\n",
      "9   0.217762  21.50 ± 0.26% = [0.2125, 0.2176] \n",
      "\n",
      "Longitud del sufijo =  6\n",
      "   Precisión    Intervalo de confianza del 95%\n",
      "0   0.159669  15.76 ± 0.24% = [0.1552, 0.1599]\n",
      "1   0.159155  15.76 ± 0.24% = [0.1552, 0.1599]\n",
      "2   0.157846  15.76 ± 0.24% = [0.1552, 0.1599]\n",
      "3   0.154639  15.76 ± 0.24% = [0.1552, 0.1599]\n",
      "4   0.157435  15.76 ± 0.24% = [0.1552, 0.1599]\n",
      "5   0.157461  15.76 ± 0.24% = [0.1552, 0.1599]\n",
      "6   0.163870  15.76 ± 0.24% = [0.1552, 0.1599]\n",
      "7   0.152785  15.76 ± 0.24% = [0.1552, 0.1599]\n",
      "8   0.153422  15.76 ± 0.24% = [0.1552, 0.1599]\n",
      "9   0.159262  15.76 ± 0.24% = [0.1552, 0.1599] \n",
      "\n"
     ]
    }
   ],
   "source": [
    "for suffix_len_l1 in range(0,6):\n",
    "    print(\"Longitud del sufijo = \", suffix_len_l1+1)\n",
    "    df = pd.DataFrame({'Precisión': accs_matrix[suffix_len_l1], 'Intervalo de confianza del 95%': confidence_interval(accs_matrix[suffix_len_l1])})\n",
    "    print(df, \"\\n\")"
   ]
  },
  {
   "cell_type": "markdown",
   "metadata": {},
   "source": [
    "Con bastante diferencia, con letras una longitud de 3 letras como sufijo alcanza el Affix Tagger su máxima precisión. Aunque la precisión del modelo solo es bastante mala no llegando al acanzar ni si quiera el 30% en el mejor de los casos."
   ]
  },
  {
   "cell_type": "code",
   "execution_count": 26,
   "metadata": {},
   "outputs": [],
   "source": [
    "accs = []\n",
    "\n",
    "for idx_test, test in enumerate(corpus_part):\n",
    "    train = corpus_part[:] # copiar\n",
    "    train.pop(idx_test) # eliminar test\n",
    "\n",
    "    '''\n",
    "    # Mostrar el id particiones de entrenamiento\n",
    "    for p in train:\n",
    "        print(id(p))\n",
    "    print()\n",
    "    '''\n",
    "\n",
    "    train = [item for sublist in train for item in sublist] # aplanar\n",
    "\n",
    "    tnt_tagger = nltk.TnT(unk=nltk.AffixTagger(affix_length=-3, train=train), Trained=True)\n",
    "    tnt_tagger.train(train)\n",
    "\n",
    "    accs.append(tnt_tagger.accuracy(test))\n"
   ]
  },
  {
   "cell_type": "code",
   "execution_count": 20,
   "metadata": {},
   "outputs": [],
   "source": [
    "import matplotlib.pyplot as plt\n",
    "import pandas as pd"
   ]
  },
  {
   "cell_type": "code",
   "execution_count": 31,
   "metadata": {},
   "outputs": [
    {
     "name": "stdout",
     "output_type": "stream",
     "text": [
      "Intervalo de confianza del 95% =  93.46 ± 0.15% = [0.9330, 0.9361]\n"
     ]
    },
    {
     "data": {
      "text/html": [
       "<div>\n",
       "<style scoped>\n",
       "    .dataframe tbody tr th:only-of-type {\n",
       "        vertical-align: middle;\n",
       "    }\n",
       "\n",
       "    .dataframe tbody tr th {\n",
       "        vertical-align: top;\n",
       "    }\n",
       "\n",
       "    .dataframe thead th {\n",
       "        text-align: right;\n",
       "    }\n",
       "</style>\n",
       "<table border=\"1\" class=\"dataframe\">\n",
       "  <thead>\n",
       "    <tr style=\"text-align: right;\">\n",
       "      <th></th>\n",
       "      <th>Precisión</th>\n",
       "    </tr>\n",
       "  </thead>\n",
       "  <tbody>\n",
       "    <tr>\n",
       "      <th>0</th>\n",
       "      <td>0.933620</td>\n",
       "    </tr>\n",
       "    <tr>\n",
       "      <th>1</th>\n",
       "      <td>0.937220</td>\n",
       "    </tr>\n",
       "    <tr>\n",
       "      <th>2</th>\n",
       "      <td>0.935816</td>\n",
       "    </tr>\n",
       "    <tr>\n",
       "      <th>3</th>\n",
       "      <td>0.933905</td>\n",
       "    </tr>\n",
       "    <tr>\n",
       "      <th>4</th>\n",
       "      <td>0.932098</td>\n",
       "    </tr>\n",
       "    <tr>\n",
       "      <th>5</th>\n",
       "      <td>0.936228</td>\n",
       "    </tr>\n",
       "    <tr>\n",
       "      <th>6</th>\n",
       "      <td>0.932554</td>\n",
       "    </tr>\n",
       "    <tr>\n",
       "      <th>7</th>\n",
       "      <td>0.932242</td>\n",
       "    </tr>\n",
       "    <tr>\n",
       "      <th>8</th>\n",
       "      <td>0.938109</td>\n",
       "    </tr>\n",
       "    <tr>\n",
       "      <th>9</th>\n",
       "      <td>0.933778</td>\n",
       "    </tr>\n",
       "  </tbody>\n",
       "</table>\n",
       "</div>"
      ],
      "text/plain": [
       "   Precisión\n",
       "0   0.933620\n",
       "1   0.937220\n",
       "2   0.935816\n",
       "3   0.933905\n",
       "4   0.932098\n",
       "5   0.936228\n",
       "6   0.932554\n",
       "7   0.932242\n",
       "8   0.938109\n",
       "9   0.933778"
      ]
     },
     "execution_count": 31,
     "metadata": {},
     "output_type": "execute_result"
    },
    {
     "data": {
      "image/png": "[encoded data removed]",
      "text/plain": [
       "<Figure size 1000x600 with 1 Axes>"
      ]
     },
     "metadata": {},
     "output_type": "display_data"
    }
   ],
   "source": [
    "plt.figure(figsize=(10, 6))\n",
    "plt.bar(range(len(accs)), accs, color='blue', alpha=0.7)\n",
    "    \n",
    "plt.xlabel('Índice')\n",
    "plt.ylabel('Precisión')\n",
    "\n",
    "plt.ylim(0, 1)\n",
    "\n",
    "print(\"Intervalo de confianza del 95% = \", confidence_interval(accs, 0.95))\n",
    "\n",
    "df = pd.DataFrame({'Precisión': accs})\n",
    "df"
   ]
  },
  {
   "cell_type": "markdown",
   "metadata": {},
   "source": [
    "### Tarea 4: Evaluación del resto de etiquetadores"
   ]
  },
  {
   "cell_type": "markdown",
   "metadata": {},
   "source": [
    "> Se deberán utilizar otros paradigmas de etiquetado. Como mínimo, el etiquetador de Brill y algún otro como CRF o Perceptron. Se deberá realizar una comparativa de prestaciones respecto a los etiquetadores TnT y HMM, utilizando el juego de categorías reducido.\n",
    "\n",
    "> Cuando se utilice el etiquetador de Brill, se debe probar con diferentes etiquetados iniciales, por ejemplo, con Unigram Tagger y con HMM Tagger. La comparación puede ser solo de una partición, si el coste temporal de la validación cruzada requiere mucho tiempo."
   ]
  },
  {
   "cell_type": "code",
   "execution_count": null,
   "metadata": {},
   "outputs": [],
   "source": [
    "# Con validación cruzada tarda mucho\n",
    "import nltk\n",
    "from nltk.tag import brill, brill_trainer, PerceptronTagger, hmm\n",
    "\n",
    "accs_brill_tnt = []\n",
    "accs_brill_hmm = []\n",
    "accs_perceptron = []\n",
    "\n",
    "for idx_test, test in enumerate(corpus_part_R):\n",
    "    train = corpus_part_R[:] # copiar\n",
    "    train.pop(idx_test) # eliminar test\n",
    "\n",
    "    '''\n",
    "    # Mostrar el id particiones de entrenamiento\n",
    "    for p in train:\n",
    "        print(id(p))\n",
    "    print()\n",
    "    '''\n",
    "\n",
    "    train = [item for sublist in train for item in sublist] # aplanar\n",
    "\n",
    "    # Brill HMM\n",
    "    hmm_tagger = hmm.HiddenMarkovModelTagger.train(train)\n",
    "    templates = brill.fntbl37()\n",
    "    trainer = brill_trainer.BrillTaggerTrainer(hmm_tagger, templates)\n",
    "    brill_tagger = trainer.train(train)\n",
    "    accs_brill_hmm.append(brill_tagger.accuracy(test))\n",
    "    print(\"hmm\", idx_test)\n",
    "\n",
    "    # Brill TnT\n",
    "    tnt_tagger = nltk.TnT(unk=nltk.AffixTagger(affix_length=-3, train=train), Trained=True)\n",
    "    tnt_tagger.train(train)\n",
    "    templates = brill.fntbl37()\n",
    "    trainer = brill_trainer.BrillTaggerTrainer(tnt_tagger, templates)\n",
    "    brill_tagger = trainer.train(train)\n",
    "    accs_brill_tnt.append(brill_tagger.accuracy(test))\n",
    "    print(\"brill\", idx_test)\n",
    "\n",
    "    # Perceptron\n",
    "    perceptron_tagger = PerceptronTagger(load=False, lang='esp')\n",
    "    perceptron_tagger.train(train)\n",
    "    accs_perceptron.append( perceptron_tagger.accuracy(test) )\n",
    "    print(\"brill\", idx_test)\n",
    "\n",
    "\n",
    "    print(idx_test)\n",
    "\n"
   ]
  },
  {
   "cell_type": "code",
   "execution_count": null,
   "metadata": {},
   "outputs": [],
   "source": [
    "idx_test = 0\n",
    "test = corpus_part_R[0]\n",
    "\n",
    "train = corpus_part_R[:] # copiar\n",
    "train.pop(idx_test) # eliminar test\n",
    "\n",
    "'''\n",
    "# Mostrar el id particiones de entrenamiento\n",
    "for p in train:\n",
    "    print(id(p))\n",
    "print()\n",
    "'''\n",
    "\n",
    "train = [item for sublist in train for item in sublist] # aplanar\n",
    "\n",
    "# Brill HMM\n",
    "hmm_tagger = hmm.HiddenMarkovModelTagger.train(train)\n",
    "templates = brill.fntbl37()\n",
    "trainer = brill_trainer.BrillTaggerTrainer(hmm_tagger, templates)\n",
    "brill_tagger = trainer.train(train)\n",
    "accs_brill_hmm = brill_tagger.accuracy(test)\n",
    "print(\"hmm\",accs_brill_hmm)\n",
    "\n",
    "# Brill TnT\n",
    "tnt_tagger = nltk.TnT(unk=nltk.AffixTagger(affix_length=-3, train=train), Trained=True)\n",
    "tnt_tagger.train(train)\n",
    "templates = brill.fntbl37()\n",
    "trainer = brill_trainer.BrillTaggerTrainer(tnt_tagger, templates)\n",
    "brill_tagger = trainer.train(train)\n",
    "accs_brill_tnt = brill_tagger.accuracy(test)\n",
    "print(\"brill\", accs_brill_tnt)\n",
    "\n",
    "# Perceptron\n",
    "perceptron_tagger = PerceptronTagger(load=False, lang='esp')\n",
    "perceptron_tagger.train(train)\n",
    "accs_perceptron = perceptron_tagger.accuracy(test)\n",
    "print(\"perceptron\", accs_perceptron)"
   ]
  },
  {
   "cell_type": "code",
   "execution_count": 49,
   "metadata": {},
   "outputs": [
    {
     "name": "stdout",
     "output_type": "stream",
     "text": [
      "[0.9306437950021178, 0.9508153324862346, 0.9641041931385006]\n"
     ]
    }
   ],
   "source": [
    "print([accs_brill_hmm, accs_brill_tnt, accs_perceptron])"
   ]
  },
  {
   "cell_type": "code",
   "execution_count": 50,
   "metadata": {},
   "outputs": [
    {
     "data": {
      "text/plain": [
       "<BarContainer object of 3 artists>"
      ]
     },
     "execution_count": 50,
     "metadata": {},
     "output_type": "execute_result"
    },
    {
     "data": {
      "image/png": "[encoded data removed]",
      "text/plain": [
       "<Figure size 640x480 with 1 Axes>"
      ]
     },
     "metadata": {},
     "output_type": "display_data"
    }
   ],
   "source": [
    "plt.bar([\"Brill HMM\", \"Brill TnT\", \"Perceptron\"], [accs_brill_hmm, accs_brill_tnt, accs_perceptron], color='blue', alpha=0.7)"
   ]
  },
  {
   "cell_type": "code",
   "execution_count": 9,
   "metadata": {},
   "outputs": [
    {
     "name": "stdout",
     "output_type": "stream",
     "text": [
      "[0.8920928256598163, 0.8954190525767829, 0.8939426600560466, 0.8909400582385584, 0.8932740709007175, 0.89401833092137, 0.8862751127511275, 0.8898066175379593, 0.8920085296506904, 0.8905389095870284]\n"
     ]
    }
   ],
   "source": [
    "print(accs_brill)"
   ]
  },
  {
   "cell_type": "code",
   "execution_count": 10,
   "metadata": {},
   "outputs": [
    {
     "name": "stdout",
     "output_type": "stream",
     "text": [
      "[0.9475333227125484, 0.9487766788131181, 0.9490191851692175, 0.9475303554749739, 0.9438791903180893, 0.944187168355041, 0.9472119721197212, 0.9481675651614818, 0.9499390739236393, 0.9480505850868447]\n"
     ]
    }
   ],
   "source": [
    "print(accs_perceptron)"
   ]
  },
  {
   "cell_type": "code",
   "execution_count": 34,
   "metadata": {},
   "outputs": [],
   "source": [
    "accs_brill = [0.8920928256598163, 0.8954190525767829, 0.8939426600560466, 0.8909400582385584, 0.8932740709007175, 0.89401833092137, 0.8862751127511275, 0.8898066175379593, 0.8920085296506904, 0.8905389095870284]\n",
    "accs_perceptron = [0.9475333227125484, 0.9487766788131181, 0.9490191851692175, 0.9475303554749739, 0.9438791903180893, 0.944187168355041, 0.9472119721197212, 0.9481675651614818, 0.9499390739236393, 0.9480505850868447]"
   ]
  },
  {
   "cell_type": "code",
   "execution_count": 41,
   "metadata": {},
   "outputs": [
    {
     "data": {
      "image/png": "[encoded data removed]",
      "text/plain": [
       "<Figure size 640x480 with 1 Axes>"
      ]
     },
     "metadata": {},
     "output_type": "display_data"
    }
   ],
   "source": [
    "folds_idx = [i for i in range(0,10)]\n",
    "plt.scatter(folds_idx, accs_brill, label=\"brill\")\n",
    "plt.scatter(folds_idx, accs_perceptron, label=\"perceptron\")\n",
    "plt.xlabel(\"Índices del entrenamiento\")\n",
    "plt.ylabel(\"Precisión\")\n",
    "plt.legend()\n",
    "plt.ylim(0, 1)\n",
    "plt.show()"
   ]
  },
  {
   "cell_type": "code",
   "execution_count": 43,
   "metadata": {},
   "outputs": [
    {
     "name": "stdout",
     "output_type": "stream",
     "text": [
      "Intervalo de confianza del 95% =  89.18 ± 0.19% = [0.8900, 0.8937]\n"
     ]
    },
    {
     "data": {
      "text/html": [
       "<div>\n",
       "<style scoped>\n",
       "    .dataframe tbody tr th:only-of-type {\n",
       "        vertical-align: middle;\n",
       "    }\n",
       "\n",
       "    .dataframe tbody tr th {\n",
       "        vertical-align: top;\n",
       "    }\n",
       "\n",
       "    .dataframe thead th {\n",
       "        text-align: right;\n",
       "    }\n",
       "</style>\n",
       "<table border=\"1\" class=\"dataframe\">\n",
       "  <thead>\n",
       "    <tr style=\"text-align: right;\">\n",
       "      <th></th>\n",
       "      <th>Precisión</th>\n",
       "    </tr>\n",
       "  </thead>\n",
       "  <tbody>\n",
       "    <tr>\n",
       "      <th>0</th>\n",
       "      <td>0.892093</td>\n",
       "    </tr>\n",
       "    <tr>\n",
       "      <th>1</th>\n",
       "      <td>0.895419</td>\n",
       "    </tr>\n",
       "    <tr>\n",
       "      <th>2</th>\n",
       "      <td>0.893943</td>\n",
       "    </tr>\n",
       "    <tr>\n",
       "      <th>3</th>\n",
       "      <td>0.890940</td>\n",
       "    </tr>\n",
       "    <tr>\n",
       "      <th>4</th>\n",
       "      <td>0.893274</td>\n",
       "    </tr>\n",
       "    <tr>\n",
       "      <th>5</th>\n",
       "      <td>0.894018</td>\n",
       "    </tr>\n",
       "    <tr>\n",
       "      <th>6</th>\n",
       "      <td>0.886275</td>\n",
       "    </tr>\n",
       "    <tr>\n",
       "      <th>7</th>\n",
       "      <td>0.889807</td>\n",
       "    </tr>\n",
       "    <tr>\n",
       "      <th>8</th>\n",
       "      <td>0.892009</td>\n",
       "    </tr>\n",
       "    <tr>\n",
       "      <th>9</th>\n",
       "      <td>0.890539</td>\n",
       "    </tr>\n",
       "  </tbody>\n",
       "</table>\n",
       "</div>"
      ],
      "text/plain": [
       "   Precisión\n",
       "0   0.892093\n",
       "1   0.895419\n",
       "2   0.893943\n",
       "3   0.890940\n",
       "4   0.893274\n",
       "5   0.894018\n",
       "6   0.886275\n",
       "7   0.889807\n",
       "8   0.892009\n",
       "9   0.890539"
      ]
     },
     "execution_count": 43,
     "metadata": {},
     "output_type": "execute_result"
    }
   ],
   "source": [
    "print(\"Intervalo de confianza del 95% = \", confidence_interval(accs_brill, 0.95))\n",
    "\n",
    "df = pd.DataFrame({'Precisión': accs_brill})\n",
    "df"
   ]
  },
  {
   "cell_type": "code",
   "execution_count": 44,
   "metadata": {},
   "outputs": [
    {
     "name": "stdout",
     "output_type": "stream",
     "text": [
      "Intervalo de confianza del 95% =  94.74 ± 0.14% = [0.9460, 0.9488]\n"
     ]
    },
    {
     "data": {
      "text/html": [
       "<div>\n",
       "<style scoped>\n",
       "    .dataframe tbody tr th:only-of-type {\n",
       "        vertical-align: middle;\n",
       "    }\n",
       "\n",
       "    .dataframe tbody tr th {\n",
       "        vertical-align: top;\n",
       "    }\n",
       "\n",
       "    .dataframe thead th {\n",
       "        text-align: right;\n",
       "    }\n",
       "</style>\n",
       "<table border=\"1\" class=\"dataframe\">\n",
       "  <thead>\n",
       "    <tr style=\"text-align: right;\">\n",
       "      <th></th>\n",
       "      <th>Precisión</th>\n",
       "    </tr>\n",
       "  </thead>\n",
       "  <tbody>\n",
       "    <tr>\n",
       "      <th>0</th>\n",
       "      <td>0.947533</td>\n",
       "    </tr>\n",
       "    <tr>\n",
       "      <th>1</th>\n",
       "      <td>0.948777</td>\n",
       "    </tr>\n",
       "    <tr>\n",
       "      <th>2</th>\n",
       "      <td>0.949019</td>\n",
       "    </tr>\n",
       "    <tr>\n",
       "      <th>3</th>\n",
       "      <td>0.947530</td>\n",
       "    </tr>\n",
       "    <tr>\n",
       "      <th>4</th>\n",
       "      <td>0.943879</td>\n",
       "    </tr>\n",
       "    <tr>\n",
       "      <th>5</th>\n",
       "      <td>0.944187</td>\n",
       "    </tr>\n",
       "    <tr>\n",
       "      <th>6</th>\n",
       "      <td>0.947212</td>\n",
       "    </tr>\n",
       "    <tr>\n",
       "      <th>7</th>\n",
       "      <td>0.948168</td>\n",
       "    </tr>\n",
       "    <tr>\n",
       "      <th>8</th>\n",
       "      <td>0.949939</td>\n",
       "    </tr>\n",
       "    <tr>\n",
       "      <th>9</th>\n",
       "      <td>0.948051</td>\n",
       "    </tr>\n",
       "  </tbody>\n",
       "</table>\n",
       "</div>"
      ],
      "text/plain": [
       "   Precisión\n",
       "0   0.947533\n",
       "1   0.948777\n",
       "2   0.949019\n",
       "3   0.947530\n",
       "4   0.943879\n",
       "5   0.944187\n",
       "6   0.947212\n",
       "7   0.948168\n",
       "8   0.949939\n",
       "9   0.948051"
      ]
     },
     "execution_count": 44,
     "metadata": {},
     "output_type": "execute_result"
    }
   ],
   "source": [
    "print(\"Intervalo de confianza del 95% = \", confidence_interval(accs_perceptron, 0.95))\n",
    "\n",
    "df = pd.DataFrame({'Precisión': accs_perceptron})\n",
    "df"
   ]
  },
  {
   "cell_type": "markdown",
   "metadata": {},
   "source": [
    "Podemos observar el modelo de perceptrón simple es mejor que modelo de brill usando un etiquetador de unigramas con las 37 plantillas del sistema fntbl37. La diferencia es del 5%, por lo tanto es bastante notable. No obstante el modelo de Brill tarda mucho menos en entrenarse que el modelo de perceptron."
   ]
  },
  {
   "cell_type": "markdown",
   "metadata": {},
   "source": [
    "### Tarea 5"
   ]
  },
  {
   "cell_type": "markdown",
   "metadata": {},
   "source": [
    "> Se  deberárealizaral  menos el  estudio  de una  de  las siguientes  herramientas. En dicho  estudio  se debe   contemplar aspectos   como: facilidad/problemas   de   instalación,   facilidad   de   uso, documentación, funcionalidad, etc.  Con cada herramienta estudiada se deberá realizar el etiquetado morfosintáctico del texto del fichero Alicia.txt. Se debe entregar un fichero tipo textoc on el formato: palabra/etiqueta.  Además, se  debe  explorar  la  posibilidad  de  etiquetar  el  fichero  Alicia.txt  con entidades nombradas(NE)"
   ]
  },
  {
   "cell_type": "markdown",
   "metadata": {},
   "source": [
    "El proceso de instalación de spacy ha sido realmente sencillo y rápido. Simplemente me he dirigido a el enlace proporcionado y en el ejemplo de código de que proporcionado por el sitio web, he copiado la primera línea de código. Para descargar el etiquetador en español, he cambiado hecho el mismo proceso con la segunda línea del ejemplo, que descarga el etiquetador en inglés, no obstante he sustituido \"en\" por \"es\"."
   ]
  },
  {
   "cell_type": "code",
   "execution_count": null,
   "metadata": {},
   "outputs": [],
   "source": [
    "!pip install -U spacy\n",
    "!python -m spacy download es_core_news_sm"
   ]
  },
  {
   "cell_type": "code",
   "execution_count": 60,
   "metadata": {},
   "outputs": [],
   "source": [
    "import spacy\n",
    "\n",
    "nlp = spacy.load(\"es_core_news_sm\")\n",
    "with open(\"Alicia_utf8.txt\", \"r\", encoding=\"utf-8\") as file:\n",
    "    text = file.read()\n",
    "\n",
    "doc = nlp(text)\n",
    "\n",
    "with open(\"Alicia_etiquetado.txt\", \"w\", encoding=\"utf-8\") as out_file:\n",
    "    for token in doc:\n",
    "        out_file.write(f\"{token.text}/{token.pos_}\\n\")\n",
    "\n",
    "with open(\"Alicia_entidades.txt\", \"w\", encoding=\"utf-8\") as out_file:\n",
    "    for ent in doc.ents:\n",
    "        out_file.write(f\"{ent.text}/{ent.label_}\\n\")\n"
   ]
  },
  {
   "cell_type": "code",
   "execution_count": 64,
   "metadata": {},
   "outputs": [
    {
     "name": "stdout",
     "output_type": "stream",
     "text": [
      "La primera/MISC\n",
      "Conseguido al fin el silencio/MISC\n",
      "Ya/MISC\n",
      "País de las Maravillas/LOC\n",
      "Ponlo/LOC\n",
      "\n"
     ]
    }
   ],
   "source": [
    "with open(\"Alicia_entidades.txt\", \"r\", encoding=\"utf-8\") as file:\n",
    "    text = file.read()\n",
    "print(text)"
   ]
  },
  {
   "cell_type": "markdown",
   "metadata": {},
   "source": [
    "El etiquetado parace correcto, pero no parece encontrar muchas entidades. Por ello, he descargado la versión grande del modelo, pero aún así reconoce un número muy límitado de entidades."
   ]
  },
  {
   "cell_type": "code",
   "execution_count": null,
   "metadata": {},
   "outputs": [],
   "source": [
    "!python -m spacy download es_core_news_lg"
   ]
  },
  {
   "cell_type": "code",
   "execution_count": 70,
   "metadata": {},
   "outputs": [],
   "source": [
    "nlp = spacy.load(\"es_core_news_lg\")\n",
    "with open(\"Alicia_utf8.txt\", \"r\", encoding=\"utf-8\") as file:\n",
    "    text = file.read()\n",
    "\n",
    "doc = nlp(text)\n",
    "\n",
    "with open(\"Alicia_etiquetado.txt\", \"w\", encoding=\"utf-8\") as out_file:\n",
    "    for token in doc:\n",
    "        out_file.write(f\"{token.text}/{token.pos_}\\n\")\n",
    "\n",
    "with open(\"Alicia_entidades.txt\", \"w\", encoding=\"utf-8\") as out_file:\n",
    "    for ent in doc.ents:\n",
    "        out_file.write(f\"{ent.text}/{ent.label_}\\n\")"
   ]
  },
  {
   "cell_type": "code",
   "execution_count": 72,
   "metadata": {},
   "outputs": [
    {
     "name": "stdout",
     "output_type": "stream",
     "text": [
      "Mas/MISC\n",
      "La primera/MISC\n",
      "La segunda/MISC\n",
      "Conseguido al fin el silencio/MISC\n",
      "País de las Maravillas/LOC\n",
      "Alicia, para ti este cuento infantil/MISC\n",
      "Ponlo/LOC\n",
      "\n"
     ]
    }
   ],
   "source": [
    "with open(\"Alicia_entidades.txt\", \"r\", encoding=\"utf-8\") as file:\n",
    "    text = file.read()\n",
    "print(text)"
   ]
  }
 ],
 "metadata": {
  "kernelspec": {
   "display_name": "RFA_keras_tensorflow",
   "language": "python",
   "name": "python3"
  },
  "language_info": {
   "codemirror_mode": {
    "name": "ipython",
    "version": 3
   },
   "file_extension": ".py",
   "mimetype": "text/x-python",
   "name": "python",
   "nbconvert_exporter": "python",
   "pygments_lexer": "ipython3",
   "version": "3.8.19"
  }
 },
 "nbformat": 4,
 "nbformat_minor": 2
}
