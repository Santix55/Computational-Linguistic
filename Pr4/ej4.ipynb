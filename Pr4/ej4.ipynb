{
 "cells": [
  {
   "cell_type": "markdown",
   "metadata": {},
   "source": [
    "## Bibliotecas para ambos algoritmos"
   ]
  },
  {
   "cell_type": "code",
   "execution_count": 1,
   "metadata": {},
   "outputs": [
    {
     "name": "stdout",
     "output_type": "stream",
     "text": [
      "['i', 'me', 'my', 'myself', 'we', 'our', 'ours', 'ourselves', 'you', \"you're\", \"you've\", \"you'll\", \"you'd\", 'your', 'yours', 'yourself', 'yourselves', 'he', 'him', 'his', 'himself', 'she', \"she's\", 'her', 'hers', 'herself', 'it', \"it's\", 'its', 'itself', 'they', 'them', 'their', 'theirs', 'themselves', 'what', 'which', 'who', 'whom', 'this', 'that', \"that'll\", 'these', 'those', 'am', 'is', 'are', 'was', 'were', 'be', 'been', 'being', 'have', 'has', 'had', 'having', 'do', 'does', 'did', 'doing', 'a', 'an', 'the', 'and', 'but', 'if', 'or', 'because', 'as', 'until', 'while', 'of', 'at', 'by', 'for', 'with', 'about', 'against', 'between', 'into', 'through', 'during', 'before', 'after', 'above', 'below', 'to', 'from', 'up', 'down', 'in', 'out', 'on', 'off', 'over', 'under', 'again', 'further', 'then', 'once', 'here', 'there', 'when', 'where', 'why', 'how', 'all', 'any', 'both', 'each', 'few', 'more', 'most', 'other', 'some', 'such', 'no', 'nor', 'not', 'only', 'own', 'same', 'so', 'than', 'too', 'very', 's', 't', 'can', 'will', 'just', 'don', \"don't\", 'should', \"should've\", 'now', 'd', 'll', 'm', 'o', 're', 've', 'y', 'ain', 'aren', \"aren't\", 'couldn', \"couldn't\", 'didn', \"didn't\", 'doesn', \"doesn't\", 'hadn', \"hadn't\", 'hasn', \"hasn't\", 'haven', \"haven't\", 'isn', \"isn't\", 'ma', 'mightn', \"mightn't\", 'mustn', \"mustn't\", 'needn', \"needn't\", 'shan', \"shan't\", 'shouldn', \"shouldn't\", 'wasn', \"wasn't\", 'weren', \"weren't\", 'won', \"won't\", 'wouldn', \"wouldn't\"]\n"
     ]
    },
    {
     "name": "stderr",
     "output_type": "stream",
     "text": [
      "[nltk_data] Downloading package stopwords to\n",
      "[nltk_data]     C:\\Users\\FX607\\AppData\\Roaming\\nltk_data...\n",
      "[nltk_data]   Package stopwords is already up-to-date!\n"
     ]
    }
   ],
   "source": [
    "import nltk\n",
    "from nltk.tokenize import word_tokenize\n",
    "from nltk.corpus import wordnet as wn\n",
    "from nltk.corpus import stopwords as sw\n",
    "\n",
    "import string\n",
    "\n",
    "nltk.download('stopwords')\n",
    "sw_engilsh = sw.words('english')\n",
    "print(sw_engilsh)\n",
    "\n",
    "test = \"Yesterday I went to the bank to withdraw the money and the credit card not work\"\n",
    "\n"
   ]
  },
  {
   "cell_type": "code",
   "execution_count": 2,
   "metadata": {},
   "outputs": [
    {
     "name": "stdout",
     "output_type": "stream",
     "text": [
      "['Yesterday', 'went', 'bank', 'withdraw', 'money', 'credit', 'card', 'work']\n"
     ]
    }
   ],
   "source": [
    "stop_words = set(sw_engilsh)\n",
    "\n",
    "\n",
    "def remove_stopwords (words: list[str]) -> list[str]:\n",
    "    result = []\n",
    "    for word in words:\n",
    "        if word.lower() not in stop_words and word not in string.punctuation:\n",
    "            result.append(word)\n",
    "    return result\n",
    "\n",
    "def process_sentence(sentence: str) -> list[str]:\n",
    "    return remove_stopwords(word_tokenize(sentence))\n",
    "\n",
    "print(process_sentence(test))"
   ]
  },
  {
   "cell_type": "markdown",
   "metadata": {},
   "source": [
    "## Ejercicio 1"
   ]
  },
  {
   "cell_type": "code",
   "execution_count": 8,
   "metadata": {},
   "outputs": [
    {
     "data": {
      "text/plain": [
       "Synset('depository_financial_institution.n.01')"
      ]
     },
     "execution_count": 8,
     "metadata": {},
     "output_type": "execute_result"
    }
   ],
   "source": [
    "\n",
    "\n",
    "def simplified_lesk(word: str, sentence: str) -> str:\n",
    "    \n",
    "    best_sense = None\n",
    "    max_overlap = 0\n",
    "    context = set(process_sentence(sentence))\n",
    "    \n",
    "    for sense in wn.synsets(word):\n",
    "        definition = sense.definition()\n",
    "        examples = sense.examples()\n",
    "        \n",
    "        signature = process_sentence(definition)\n",
    "        \n",
    "        for example in examples:\n",
    "            signature.extend(process_sentence(example))\n",
    "        \n",
    "        overlap = len(context.intersection(signature))\n",
    "\n",
    "        if overlap > max_overlap:\n",
    "            max_overlap = overlap\n",
    "            best_sense = sense\n",
    "    \n",
    "    return best_sense\n",
    "\n",
    "\n",
    "simplified_lesk('bank', \"Yesterday I went to the bank to withdraw the money and the credit card not work\")\n"
   ]
  },
  {
   "cell_type": "markdown",
   "metadata": {},
   "source": [
    "## Ejercicio 2\n",
    "Hace la media de las distancias coseno entre todas las palabras del contexto y de la firma. No cuenta para la media las apariciones de la propia palabra que se esta buscando, porque no aporta información y suma mucha similaridad."
   ]
  },
  {
   "cell_type": "code",
   "execution_count": 7,
   "metadata": {},
   "outputs": [],
   "source": [
    "import gensim\n",
    "from nltk.data import find\n",
    "\n",
    "# Cargar el modelo de embeding pre-entrenados del NLTK\n",
    "word2vec_sample = str(find('models/word2vec_sample/pruned.word2vec.txt'))\n",
    "model = gensim.models.KeyedVectors.load_word2vec_format(word2vec_sample, binary=False)"
   ]
  },
  {
   "cell_type": "code",
   "execution_count": 25,
   "metadata": {},
   "outputs": [
    {
     "data": {
      "text/plain": [
       "Synset('deposit.v.02')"
      ]
     },
     "execution_count": 25,
     "metadata": {},
     "output_type": "execute_result"
    }
   ],
   "source": [
    "def cos_semantic(word: str, sentence: str) -> str:\n",
    "    \n",
    "    best_sense = None\n",
    "    max_similarity = 0\n",
    "    context = process_sentence(sentence)\n",
    "    \n",
    "    for sense in wn.synsets(word):\n",
    "        \n",
    "        definition = sense.definition()\n",
    "        examples = sense.examples()\n",
    "        \n",
    "        signature = process_sentence(definition)\n",
    "        \n",
    "        for example in examples:\n",
    "            signature.extend(process_sentence(example))\n",
    "        \n",
    "        similarity = 0\n",
    "        not_founds = 0\n",
    "        for s_word in signature:\n",
    "            for c_word in context:\n",
    "                try:\n",
    "                    if s_word == word or c_word == word: raise Exception\n",
    "                    similarity += model.similarity(s_word, c_word) # cos dist\n",
    "                except Exception as e:\n",
    "                    not_founds += 1\n",
    "        similarity /= len(signature) * len(context) - not_founds\n",
    "\n",
    "        if similarity > max_similarity:\n",
    "            max_similarity = similarity\n",
    "            best_sense = sense\n",
    "    \n",
    "    return best_sense\n",
    "\n",
    "\n",
    "cos_semantic(\"bank\", test)"
   ]
  },
  {
   "cell_type": "code",
   "execution_count": 23,
   "metadata": {},
   "outputs": [
    {
     "data": {
      "text/plain": [
       "'put into a bank account'"
      ]
     },
     "execution_count": 23,
     "metadata": {},
     "output_type": "execute_result"
    }
   ],
   "source": [
    "wn.synset('deposit.v.02').definition()"
   ]
  }
 ],
 "metadata": {
  "kernelspec": {
   "display_name": "LC_nltk",
   "language": "python",
   "name": "python3"
  },
  "language_info": {
   "codemirror_mode": {
    "name": "ipython",
    "version": 3
   },
   "file_extension": ".py",
   "mimetype": "text/x-python",
   "name": "python",
   "nbconvert_exporter": "python",
   "pygments_lexer": "ipython3",
   "version": "3.12.5"
  }
 },
 "nbformat": 4,
 "nbformat_minor": 2
}
